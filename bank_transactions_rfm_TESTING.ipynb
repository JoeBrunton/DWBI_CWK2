{
  "nbformat": 4,
  "nbformat_minor": 0,
  "metadata": {
    "colab": {
      "provenance": []
    },
    "kernelspec": {
      "name": "python3",
      "display_name": "Python 3"
    },
    "language_info": {
      "name": "python"
    }
  },
  "cells": [
    {
      "cell_type": "markdown",
      "source": [
        "# A Part 2\n",
        "5. Write a query to define and calculate the RFM values per customer.\n",
        "6. Check the distribution of Recency, Frequency and Monetary Values.\n",
        "7. Briefly discuss the issue of skewness and remove skew from the data.\n"
      ],
      "metadata": {
        "id": "CB7BZBvPqHGw"
      }
    },
    {
      "cell_type": "markdown",
      "source": [
        "# A.5\n",
        "1. Calculate Recency based on last transaction date + 1 day.\n",
        "2. Calculate Frequency based on CustomerID count.\n",
        "3. Calculate Monerary based on total transaction value.\n",
        "4. Concatenate into RFM Model.\n"
      ],
      "metadata": {
        "id": "2Bc0M1--q2_S"
      }
    },
    {
      "cell_type": "code",
      "execution_count": null,
      "metadata": {
        "id": "9GmAQLIAPZgJ",
        "colab": {
          "base_uri": "https://localhost:8080/"
        },
        "outputId": "2af504dd-7a0f-4bc0-84b6-bc6048f6d3b4"
      },
      "outputs": [
        {
          "output_type": "stream",
          "name": "stderr",
          "text": [
            "<ipython-input-1-061760fbc68a>:6: UserWarning: Could not infer format, so each element will be parsed individually, falling back to `dateutil`. To ensure parsing is consistent and as-expected, please specify a format.\n",
            "  df['TransactionDate'] = pandas.to_datetime(df['TransactionDate'])\n"
          ]
        }
      ],
      "source": [
        "import pandas\n",
        "\n",
        "# Read CSV and convert transaction date from string to datetime for analysis\n",
        "\n",
        "df = pandas.read_csv('bank_transactions_cleaned.csv')\n",
        "df['TransactionDate'] = pandas.to_datetime(df['TransactionDate'])\n",
        "# reference date is the last transaction date in the data frame + 1 day\n",
        "referenceDate = df['TransactionDate'].max() + pandas.Timedelta(days=1)\n"
      ]
    },
    {
      "cell_type": "code",
      "source": [
        "# 1.\n",
        "# get the last purchase date of the customer\n",
        "# subtract this from the last transaction date in the df + 1 (the reference date)\n",
        "# THE REASON WE USE THE LAST DATE + 1 IS SO THAT EVEN IF THE DATA SET IS FROM YEARS AGO YOU CAN-\n",
        "# CALCULATE RECENCY RELATIVE TO THE DATA SET AND NOT TO TODAY'S DATE.\n",
        "\n",
        "def calculateRec(df, refDate) :\n",
        "    lastPurchaseDate = df.groupby('CustomerID')['TransactionDate'].max()\n",
        "    recency = refDate - lastPurchaseDate\n",
        "    recencyInDays = recency.dt.days\n",
        "    return recencyInDays\n",
        "\n",
        "#calculateRec(df, referenceDate)"
      ],
      "metadata": {
        "collapsed": true,
        "id": "SMrsNpvct_1B"
      },
      "execution_count": null,
      "outputs": []
    },
    {
      "cell_type": "code",
      "source": [
        "# 2.\n",
        "# return the count for each CustomerID\n",
        "\n",
        "\n",
        "def calculateFreq(df) :\n",
        "  return df.groupby('CustomerID')['TransactionID'].nunique()\n",
        "\n",
        "\n",
        "#calculateFreq(df)\n",
        "print(df['CustomerID'].nunique()) # returns number of unique customer ids\n",
        "print(df.groupby('CustomerID')['TransactionID'].count().value_counts()) # returns number of transaction ids grouped by customer id (how many transactions per customer)"
      ],
      "metadata": {
        "collapsed": true,
        "id": "wyABUNEB2htH",
        "colab": {
          "base_uri": "https://localhost:8080/"
        },
        "outputId": "22cbfbf8-3c5c-4abf-91e1-f9e10c3578c9"
      },
      "execution_count": null,
      "outputs": [
        {
          "output_type": "stream",
          "name": "stdout",
          "text": [
            "884265\n",
            "TransactionID\n",
            "1    740653\n",
            "2    124960\n",
            "3     16789\n",
            "4      1702\n",
            "5       147\n",
            "6        14\n",
            "Name: count, dtype: int64\n"
          ]
        }
      ]
    },
    {
      "cell_type": "code",
      "source": [
        "# 3.\n",
        "# return the total transaction value per customer\n",
        "\n",
        "def calculateMon(df) :\n",
        "  return df.groupby('CustomerID')['TransactionAmount (INR)'].max()\n",
        "\n",
        "#calculateMon(df)"
      ],
      "metadata": {
        "id": "7_KUB18S6jbZ"
      },
      "execution_count": null,
      "outputs": []
    },
    {
      "cell_type": "code",
      "source": [
        "# 4.\n",
        "# concatenate data into RFM model\n",
        "\n",
        "rfm = pandas.DataFrame({\n",
        "    'Recency': calculateRec(df, referenceDate),\n",
        "    'Frequency': calculateFreq(df),\n",
        "    'Monetary': calculateMon(df)\n",
        "})\n",
        "\n",
        "print(rfm.head())\n",
        "\n",
        "sortByRecency = rfm.sort_values('Recency', ascending=False)\n",
        "sortByFrequency = rfm.sort_values('Frequency', ascending=False)\n",
        "sortByMonetary = rfm.sort_values('Monetary', ascending=False)\n",
        "print(sortByRecency.head())\n",
        "print(sortByFrequency.head())\n",
        "print(sortByMonetary.head())"
      ],
      "metadata": {
        "colab": {
          "base_uri": "https://localhost:8080/"
        },
        "id": "6mivB7SC77rq",
        "outputId": "e449e8f4-0faf-494b-b223-75a89944e11f"
      },
      "execution_count": null,
      "outputs": [
        {
          "output_type": "stream",
          "name": "stdout",
          "text": [
            "            Recency  Frequency  Monetary\n",
            "CustomerID                              \n",
            "C1010011         75          2    4750.0\n",
            "C1010012        118          1    1499.0\n",
            "C1010014        155          2    1205.0\n",
            "C1010018         86          1      30.0\n",
            "C1010024        114          1    5000.0\n",
            "            Recency  Frequency  Monetary\n",
            "CustomerID                              \n",
            "C8437020        337          1     440.0\n",
            "C1010078        337          1     124.0\n",
            "C8436992        337          1    2800.0\n",
            "C8437128        337          1    5952.0\n",
            "C5237264        337          1    4970.0\n",
            "            Recency  Frequency  Monetary\n",
            "CustomerID                              \n",
            "C1026833        101          6   1245.00\n",
            "C5531319         31          6   5000.00\n",
            "C1113684        104          6  34980.00\n",
            "C3226689         71          6   6351.39\n",
            "C6735477          1          6   2000.00\n",
            "            Recency  Frequency    Monetary\n",
            "CustomerID                                \n",
            "C7319271        114          1  1560034.99\n",
            "C6677159        110          1  1380002.88\n",
            "C4141768        109          1   991132.22\n",
            "C8217728        245          2   724122.00\n",
            "C1830891        277          1   720001.16\n"
          ]
        }
      ]
    },
    {
      "cell_type": "markdown",
      "source": [
        "# A.5 cont.\n",
        "assign percentage value to rfm"
      ],
      "metadata": {
        "id": "Y0vUj3481JRt"
      }
    },
    {
      "cell_type": "code",
      "source": [
        "# Percentage Values for Recency\n",
        "\n",
        "def RecencyPerc(df) :\n",
        "  perc = (df / df.max()) * 100\n",
        "  return 100 - perc\n",
        "\n",
        "print(RecencyPerc(rfm['Recency']).round())"
      ],
      "metadata": {
        "colab": {
          "base_uri": "https://localhost:8080/"
        },
        "id": "-CIc-5AGxsl8",
        "outputId": "f915f4bd-0347-420f-b8b9-092bb8f84d43"
      },
      "execution_count": null,
      "outputs": [
        {
          "output_type": "stream",
          "name": "stdout",
          "text": [
            "CustomerID\n",
            "C1010011    78.0\n",
            "C1010012    65.0\n",
            "C1010014    54.0\n",
            "C1010018    74.0\n",
            "C1010024    66.0\n",
            "            ... \n",
            "C9099836    54.0\n",
            "C9099877    74.0\n",
            "C9099919    66.0\n",
            "C9099941    69.0\n",
            "C9099956    77.0\n",
            "Name: Recency, Length: 884265, dtype: float64\n"
          ]
        }
      ]
    },
    {
      "cell_type": "code",
      "source": [
        "# Percentage Values for Frequency or Monetary\n",
        "\n",
        "def FrequencyOrMonetaryPerc(df) :\n",
        "  return (df / df.max()) * 100"
      ],
      "metadata": {
        "id": "Ve8VIWTO077m"
      },
      "execution_count": null,
      "outputs": []
    },
    {
      "cell_type": "code",
      "source": [
        "test = pandas.DataFrame({\n",
        "    'Recency': RecencyPerc(rfm['Recency']),\n",
        "    'Frequency': FrequencyOrMonetaryPerc(rfm['Frequency']),\n",
        "    'Monetary': FrequencyOrMonetaryPerc(rfm['Monetary'])\n",
        "})\n",
        "\n",
        "print(test.round())"
      ],
      "metadata": {
        "colab": {
          "base_uri": "https://localhost:8080/"
        },
        "id": "ngGVeO5N1mkT",
        "outputId": "d0977a87-dc51-4c10-80d3-1da16f6c0084"
      },
      "execution_count": null,
      "outputs": [
        {
          "output_type": "stream",
          "name": "stdout",
          "text": [
            "            Recency  Frequency  Monetary\n",
            "CustomerID                              \n",
            "C1010011       78.0       33.0       0.0\n",
            "C1010012       65.0       17.0       0.0\n",
            "C1010014       54.0       33.0       0.0\n",
            "C1010018       74.0       17.0       0.0\n",
            "C1010024       66.0       17.0       0.0\n",
            "...             ...        ...       ...\n",
            "C9099836       54.0       17.0       0.0\n",
            "C9099877       74.0       17.0       0.0\n",
            "C9099919       66.0       17.0       0.0\n",
            "C9099941       69.0       17.0       0.0\n",
            "C9099956       77.0       17.0       0.0\n",
            "\n",
            "[884265 rows x 3 columns]\n"
          ]
        }
      ]
    },
    {
      "cell_type": "code",
      "source": [
        "print(test[test['Recency'] >= 80])"
      ],
      "metadata": {
        "colab": {
          "base_uri": "https://localhost:8080/"
        },
        "id": "NfFVePWq_jb8",
        "outputId": "b28f8b6c-c4d7-4a85-eac4-d8f4d9eacfef"
      },
      "execution_count": null,
      "outputs": [
        {
          "output_type": "stream",
          "name": "stdout",
          "text": [
            "              Recency  Frequency  Monetary\n",
            "CustomerID                                \n",
            "C1010041    81.602374  50.000000  0.929466\n",
            "C1010068    81.305638  16.666667  0.034999\n",
            "C1010072    90.801187  16.666667  0.224995\n",
            "C1010087    90.504451  16.666667  0.002692\n",
            "C1010116    99.406528  16.666667  0.002564\n",
            "...               ...        ...       ...\n",
            "C9097954    90.504451  16.666667  0.012820\n",
            "C9098073    81.602374  16.666667  0.031986\n",
            "C9098516    81.305638  33.333333  0.243584\n",
            "C9099116    81.305638  16.666667  0.003205\n",
            "C9099692    85.163205  16.666667  0.015961\n",
            "\n",
            "[138211 rows x 3 columns]\n"
          ]
        }
      ]
    },
    {
      "cell_type": "code",
      "source": [
        "# assign customer values based on results\n",
        "\n",
        "def CustomerAssignment(row):\n",
        "  if row['Recency'] >= 80 & row['Frequency'] >= 80 & row['Monetary'] >= 80:\n",
        "    return 'Best Customer'\n",
        "  elif row['Recency'] >= 60 & row['Frequency'] >= 60 & row['Monetary'] >= 60:\n",
        "    return 'Loyal'\n",
        "  elif row['Recency'] >= 60 & row['Frequency'] >= 20 & row['Monetary'] >= 40:\n",
        "    return 'Potential Loyalist'\n",
        "  elif row['Recency'] >= 60 & row['Frequency'] >= 20 & row['Monetary'] >= 20:\n",
        "    return 'Promising'\n",
        "  elif row['Recency'] >= 40 & row['Frequency'] >= 40 & row['Monetary'] >= 40:\n",
        "    return 'Customers Needing Attention'\n",
        "  elif row['Recency'] >= 20 & row['Frequency'] >= 40 & row['Monetary'] >= 40:\n",
        "    return 'At Risk'\n",
        "  elif row['Recency'] >= 20 & row['Frequency'] >= 20 & row['Monetary'] >= 40:\n",
        "    return 'Hibernating'\n",
        "  else:\n",
        "    return 'Lost'\n",
        "\n",
        "test[['Recency', 'Frequency', 'Monetary']] = test[['Recency', 'Frequency', 'Monetary']].astype(int)\n",
        "\n",
        "test['Type'] = test.apply(CustomerAssignment, axis=1)\n",
        "print(test)\n",
        "\n"
      ],
      "metadata": {
        "colab": {
          "base_uri": "https://localhost:8080/"
        },
        "id": "M_UbQ6f03j0c",
        "outputId": "b69dc541-da52-4ce4-fe94-5c454435f30c"
      },
      "execution_count": null,
      "outputs": [
        {
          "output_type": "stream",
          "name": "stdout",
          "text": [
            "            Recency  Frequency  Monetary  Type\n",
            "CustomerID                                    \n",
            "C1010011         77         33         0  Lost\n",
            "C1010012         64         16         0  Lost\n",
            "C1010014         54         33         0  Lost\n",
            "C1010018         74         16         0  Lost\n",
            "C1010024         66         16         0  Lost\n",
            "...             ...        ...       ...   ...\n",
            "C9099836         54         16         0  Lost\n",
            "C9099877         74         16         0  Lost\n",
            "C9099919         66         16         0  Lost\n",
            "C9099941         69         16         0  Lost\n",
            "C9099956         77         16         0  Lost\n",
            "\n",
            "[884265 rows x 4 columns]\n"
          ]
        }
      ]
    },
    {
      "cell_type": "code",
      "source": [
        "# For A.5.4 (creating rfm model) testing we discovered that only one customer fell into a category outside of 'Lost'\n",
        "# this was customer C7525532 who was Promising. This is because the RFM definitions (boundaries) for Customer Types did not take into account\n",
        "# the skewness of the high monetary purchases which meant that only a customer making massive transactions regularly and recently\n",
        "# would class as a 'Best Customer' which is unrealistic.\n",
        "#\n",
        "# This means the Customer Type boundaries need to be changed to better gather information from this data model.\n",
        "\n",
        "print(test[test['Type'] == 'Best Customer'])\n",
        "print(test[test['Type'] == 'Loyal'])\n",
        "print(test[test['Type'] == 'Potential Loyalist'])\n",
        "print(test[test['Type'] == 'Promising'])\n",
        "print(test[test['Type'] == 'Customers Needing Attention'])\n",
        "print(test[test['Type'] == 'At Risk'])\n",
        "print(test[test['Type'] == 'Hibernating'])\n",
        "print(test[test['Type'] == 'Lost'])"
      ],
      "metadata": {
        "colab": {
          "base_uri": "https://localhost:8080/"
        },
        "id": "CFSswGU2F0E5",
        "outputId": "85b7291f-3f78-4239-c3b5-0c6bfb88a308"
      },
      "execution_count": null,
      "outputs": [
        {
          "output_type": "stream",
          "name": "stdout",
          "text": [
            "Empty DataFrame\n",
            "Columns: [Recency, Frequency, Monetary, Type]\n",
            "Index: []\n",
            "Empty DataFrame\n",
            "Columns: [Recency, Frequency, Monetary, Type]\n",
            "Index: []\n",
            "Empty DataFrame\n",
            "Columns: [Recency, Frequency, Monetary, Type]\n",
            "Index: []\n",
            "            Recency  Frequency  Monetary       Type\n",
            "CustomerID                                         \n",
            "C3912568         67         33        22  Promising\n",
            "C7525532         65         50        28  Promising\n",
            "Empty DataFrame\n",
            "Columns: [Recency, Frequency, Monetary, Type]\n",
            "Index: []\n",
            "Empty DataFrame\n",
            "Columns: [Recency, Frequency, Monetary, Type]\n",
            "Index: []\n",
            "Empty DataFrame\n",
            "Columns: [Recency, Frequency, Monetary, Type]\n",
            "Index: []\n",
            "            Recency  Frequency  Monetary  Type\n",
            "CustomerID                                    \n",
            "C1010011         77         33         0  Lost\n",
            "C1010012         64         16         0  Lost\n",
            "C1010014         54         33         0  Lost\n",
            "C1010018         74         16         0  Lost\n",
            "C1010024         66         16         0  Lost\n",
            "...             ...        ...       ...   ...\n",
            "C9099836         54         16         0  Lost\n",
            "C9099877         74         16         0  Lost\n",
            "C9099919         66         16         0  Lost\n",
            "C9099941         69         16         0  Lost\n",
            "C9099956         77         16         0  Lost\n",
            "\n",
            "[884263 rows x 4 columns]\n"
          ]
        }
      ]
    },
    {
      "cell_type": "code",
      "source": [
        "# it turns out there are only two transactions in the top 20 percentile.\n",
        "\n",
        "print(test[test['Monetary'] >= 80])"
      ],
      "metadata": {
        "colab": {
          "base_uri": "https://localhost:8080/"
        },
        "id": "FlDgEqYUOZig",
        "outputId": "1231c2f9-747c-4432-cbdf-29ff55a17b0d"
      },
      "execution_count": null,
      "outputs": [
        {
          "output_type": "stream",
          "name": "stdout",
          "text": [
            "            Recency  Frequency  Monetary  Type\n",
            "CustomerID                                    \n",
            "C6677159         67         16        88  Lost\n",
            "C7319271         66         16       100  Lost\n"
          ]
        }
      ]
    },
    {
      "cell_type": "code",
      "source": [
        "# assign customers with new rfm boundaries\n",
        "\n",
        "def CustomerAssignment(row):\n",
        "  if row['Recency'] >= 0 & row['Frequency'] >= 0 & row['Monetary'] >= 80:\n",
        "    return 'High Paying Customer'\n",
        "  elif row['Recency'] >= 80 & row['Frequency'] >= 80 & row['Monetary'] < 80:\n",
        "    return 'Best Customer'\n",
        "  elif row['Recency'] >= 80 & row['Frequency'] >= 60 & row['Monetary'] >= 0:\n",
        "    return 'Loyal'\n",
        "  elif row['Recency'] >= 60 & row['Frequency'] >= 60 & row['Monetary'] >= 0:\n",
        "    return 'Potential Loyalist'\n",
        "  elif row['Recency'] >= 60 & row['Frequency'] >= 40 & row['Monetary'] >= 0:\n",
        "    return 'Promising'\n",
        "  elif row['Recency'] >= 40 & row['Frequency'] >= 40 & row['Monetary'] >= 0:\n",
        "    return 'Customers Needing Attention'\n",
        "  elif row['Recency'] >= 40 & row['Frequency'] >= 20 & row['Monetary'] >= 0:\n",
        "    return 'At Risk'\n",
        "  elif row['Recency'] >= 20 & row['Frequency'] >= 20 & row['Monetary'] >= 0:\n",
        "    return 'Hibernating'\n",
        "  else:\n",
        "    return 'Lost'\n",
        "\n",
        "test[['Recency', 'Frequency', 'Monetary']] = test[['Recency', 'Frequency', 'Monetary']].astype(int)\n",
        "\n",
        "test['new_type'] = test.apply(CustomerAssignment, axis=1)\n",
        "print(test)"
      ],
      "metadata": {
        "colab": {
          "base_uri": "https://localhost:8080/"
        },
        "id": "J9J7K2mxHVdE",
        "outputId": "67a38cd4-e9b1-4698-92f6-44f0090f3400"
      },
      "execution_count": null,
      "outputs": [
        {
          "output_type": "stream",
          "name": "stdout",
          "text": [
            "            Recency  Frequency  Monetary  Type       new_type\n",
            "CustomerID                                                   \n",
            "C1010011         77         33         0  Lost  Best Customer\n",
            "C1010012         64         16         0  Lost  Best Customer\n",
            "C1010014         54         33         0  Lost  Best Customer\n",
            "C1010018         74         16         0  Lost  Best Customer\n",
            "C1010024         66         16         0  Lost  Best Customer\n",
            "...             ...        ...       ...   ...            ...\n",
            "C9099836         54         16         0  Lost  Best Customer\n",
            "C9099877         74         16         0  Lost  Best Customer\n",
            "C9099919         66         16         0  Lost  Best Customer\n",
            "C9099941         69         16         0  Lost  Best Customer\n",
            "C9099956         77         16         0  Lost  Best Customer\n",
            "\n",
            "[884265 rows x 5 columns]\n"
          ]
        }
      ]
    },
    {
      "cell_type": "code",
      "source": [
        "print(test[test['new_type'] == 'Best Customer'])\n",
        "print(test[test['new_type'] == 'Loyal'])\n",
        "print(test[test['new_type'] == 'Potential Loyalist'])\n",
        "print(test[test['new_type'] == 'Promising'])\n",
        "print(test[test['new_type'] == 'Customers Needing Attention'])\n",
        "print(test[test['new_type'] == 'At Risk'])\n",
        "print(test[test['new_type'] == 'Hibernating'])\n",
        "print(test[test['new_type'] == 'Lost'])\n",
        "print(test[test['new_type'] == 'High Paying Customer'])"
      ],
      "metadata": {
        "colab": {
          "base_uri": "https://localhost:8080/"
        },
        "id": "vq9nK709H_oz",
        "outputId": "902bdc70-38ab-49a3-8cb9-7c50d22fac3a"
      },
      "execution_count": null,
      "outputs": [
        {
          "output_type": "stream",
          "name": "stdout",
          "text": [
            "            Recency  Frequency  Monetary  Type       new_type\n",
            "CustomerID                                                   \n",
            "C1010011         77         33         0  Lost  Best Customer\n",
            "C1010012         64         16         0  Lost  Best Customer\n",
            "C1010014         54         33         0  Lost  Best Customer\n",
            "C1010018         74         16         0  Lost  Best Customer\n",
            "C1010024         66         16         0  Lost  Best Customer\n",
            "...             ...        ...       ...   ...            ...\n",
            "C9099836         54         16         0  Lost  Best Customer\n",
            "C9099877         74         16         0  Lost  Best Customer\n",
            "C9099919         66         16         0  Lost  Best Customer\n",
            "C9099941         69         16         0  Lost  Best Customer\n",
            "C9099956         77         16         0  Lost  Best Customer\n",
            "\n",
            "[823084 rows x 5 columns]\n",
            "Empty DataFrame\n",
            "Columns: [Recency, Frequency, Monetary, Type, new_type]\n",
            "Index: []\n",
            "            Recency  Frequency  Monetary  Type            new_type\n",
            "CustomerID                                                        \n",
            "C1027440         72         83         0  Lost  Potential Loyalist\n",
            "C1038492         72         83         1  Lost  Potential Loyalist\n",
            "C1129919         66         83         0  Lost  Potential Loyalist\n",
            "C1422931         66         83         0  Lost  Potential Loyalist\n",
            "C1434678         75         83         0  Lost  Potential Loyalist\n",
            "...             ...        ...       ...   ...                 ...\n",
            "C8638524         77         83         0  Lost  Potential Loyalist\n",
            "C8640473         72         83         0  Lost  Potential Loyalist\n",
            "C8716870         73         83         0  Lost  Potential Loyalist\n",
            "C8917114         72         83         0  Lost  Potential Loyalist\n",
            "C9067184         76         33        19  Lost  Potential Loyalist\n",
            "\n",
            "[97 rows x 5 columns]\n",
            "            Recency  Frequency  Monetary  Type   new_type\n",
            "CustomerID                                               \n",
            "C6677159         67         16        88  Lost  Promising\n",
            "            Recency  Frequency  Monetary  Type                     new_type\n",
            "CustomerID                                                                 \n",
            "C1010039          9         16         0  Lost  Customers Needing Attention\n",
            "C1010078          0         16         0  Lost  Customers Needing Attention\n",
            "C1010085          0         16         0  Lost  Customers Needing Attention\n",
            "C1010112          9         16         0  Lost  Customers Needing Attention\n",
            "C1010122          0         16         0  Lost  Customers Needing Attention\n",
            "...             ...        ...       ...   ...                          ...\n",
            "C9098123          9         16         0  Lost  Customers Needing Attention\n",
            "C9098146          0         16         0  Lost  Customers Needing Attention\n",
            "C9098179          0         16         0  Lost  Customers Needing Attention\n",
            "C9099183          0         16         0  Lost  Customers Needing Attention\n",
            "C9099680          9         16         0  Lost  Customers Needing Attention\n",
            "\n",
            "[61064 rows x 5 columns]\n",
            "            Recency  Frequency  Monetary  Type new_type\n",
            "CustomerID                                             \n",
            "C3623816          0         16         9  Lost  At Risk\n",
            "C4217343          9         16        10  Lost  At Risk\n",
            "C4226553          9         16         8  Lost  At Risk\n",
            "C5115075          9         16        10  Lost  At Risk\n",
            "C7715079          9         16        11  Lost  At Risk\n",
            "C8130878          9         16         8  Lost  At Risk\n",
            "C8630965          0         16         9  Lost  At Risk\n",
            "            Recency  Frequency  Monetary  Type     new_type\n",
            "CustomerID                                                 \n",
            "C7319271         66         16       100  Lost  Hibernating\n",
            "            Recency  Frequency  Monetary  Type new_type\n",
            "CustomerID                                             \n",
            "C1338335          0         50         0  Lost     Lost\n",
            "C1814765          9         50         0  Lost     Lost\n",
            "C1840347          9         50         0  Lost     Lost\n",
            "C2321246          0         50         0  Lost     Lost\n",
            "C3035959          9         50         0  Lost     Lost\n",
            "C3910089          9         50         0  Lost     Lost\n",
            "C4918053          9         50         0  Lost     Lost\n",
            "C5439819          9         50         0  Lost     Lost\n",
            "C7030954          0         16        14  Lost     Lost\n",
            "C7379252          0         16        15  Lost     Lost\n",
            "C8012073          9         50         0  Lost     Lost\n",
            "Empty DataFrame\n",
            "Columns: [Recency, Frequency, Monetary, Type, new_type]\n",
            "Index: []\n"
          ]
        }
      ]
    }
  ]
}