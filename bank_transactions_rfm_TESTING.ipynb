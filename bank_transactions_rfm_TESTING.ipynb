{
  "nbformat": 4,
  "nbformat_minor": 0,
  "metadata": {
    "colab": {
      "provenance": []
    },
    "kernelspec": {
      "name": "python3",
      "display_name": "Python 3"
    },
    "language_info": {
      "name": "python"
    }
  },
  "cells": [
    {
      "cell_type": "markdown",
      "source": [
        "# A Part 2\n",
        "5. Write a query to define and calculate the RFM values per customer.\n",
        "6. Check the distribution of Recency, Frequency and Monetary Values.\n",
        "7. Briefly discuss the issue of skewness and remove skew from the data.\n"
      ],
      "metadata": {
        "id": "CB7BZBvPqHGw"
      }
    },
    {
      "cell_type": "markdown",
      "source": [
        "# A.5\n",
        "1. Calculate Recency based on last transaction date + 1 day.\n",
        "2. Calculate Frequency based on CustomerID count.\n",
        "3. Calculate Monerary based on total transaction value.\n",
        "4. Concatenate into RFM Model.\n"
      ],
      "metadata": {
        "id": "2Bc0M1--q2_S"
      }
    },
    {
      "cell_type": "code",
      "execution_count": null,
      "metadata": {
        "id": "9GmAQLIAPZgJ"
      },
      "outputs": [],
      "source": [
        "import pandas\n",
        "\n",
        "# Read CSV and convert transaction date from string to datetime for analysis\n",
        "\n",
        "df = pandas.read_csv('bank_transactions_cleaned.csv')\n",
        "df['TransactionDate'] = pandas.to_datetime(df['TransactionDate'])\n",
        "referenceDate = df['TransactionDate'].max() + pandas.Timedelta(days=1)\n"
      ]
    },
    {
      "cell_type": "code",
      "source": [
        "# 1.\n",
        "# get the last purchase date of the customer\n",
        "# subtract this from the last transaction date in the df + 1 (the reference date)\n",
        "# THE REASON WE USE THE LAST DATE + 1 IS SO THAT EVEN IF THE DATA SET IS FROM YEARS AGO YOU CAN-\n",
        "# CALCULATE RECENCY RELATIVE TO THE DATA SET AND NOT TO TODAY'S DATE.\n",
        "\n",
        "def calculateRec(df, refDate) :\n",
        "    lastPurchaseDate = df.groupby('CustomerID')['TransactionDate'].max()\n",
        "    recency = refDate - lastPurchaseDate\n",
        "    recencyInDays = recency.dt.days\n",
        "    return recencyInDays\n",
        "\n",
        "#calculateRec(df, referenceDate)"
      ],
      "metadata": {
        "collapsed": true,
        "id": "SMrsNpvct_1B"
      },
      "execution_count": null,
      "outputs": []
    },
    {
      "cell_type": "code",
      "source": [
        "# 2.\n",
        "# return the count for each CustomerID\n",
        "\n",
        "\n",
        "def calculateFreq(df) :\n",
        "  return df.groupby('CustomerID')['TransactionID'].nunique()\n",
        "\n",
        "\n",
        "#calculateFreq(df)\n",
        "print(df['CustomerID'].nunique()) # returns number of unique customer ids\n",
        "print(df.groupby('CustomerID')['TransactionID'].count().value_counts()) # returns number of transaction ids grouped by customer id (how many transactions per customer)"
      ],
      "metadata": {
        "collapsed": true,
        "id": "wyABUNEB2htH"
      },
      "execution_count": null,
      "outputs": []
    },
    {
      "cell_type": "code",
      "source": [
        "# 3.\n",
        "# return the total transaction value per customer\n",
        "\n",
        "def calculateMon(df) :\n",
        "  return df.groupby('CustomerID')['TransactionAmount (INR)'].max()\n",
        "\n",
        "#calculateMon(df)"
      ],
      "metadata": {
        "id": "7_KUB18S6jbZ"
      },
      "execution_count": null,
      "outputs": []
    },
    {
      "cell_type": "code",
      "source": [
        "# 4.\n",
        "# concatenate data into RFM model\n",
        "\n",
        "rfm = pandas.DataFrame({\n",
        "    'Recency': calculateRec(df, referenceDate),\n",
        "    'Frequency': calculateFreq(df),\n",
        "    'Monetary': calculateMon(df)\n",
        "})\n",
        "\n",
        "print(rfm.head())\n",
        "\n",
        "sortByRecency = rfm.sort_values('Recency', ascending=False)\n",
        "sortByFrequency = rfm.sort_values('Frequency', ascending=False)\n",
        "sortByMonetary = rfm.sort_values('Monetary', ascending=False)\n",
        "print(sortByRecency.head())\n",
        "print(sortByFrequency.head())\n",
        "print(sortByMonetary.head())"
      ],
      "metadata": {
        "colab": {
          "base_uri": "https://localhost:8080/"
        },
        "id": "6mivB7SC77rq",
        "outputId": "9d221700-18f6-4d1a-e657-4997eedd90cd"
      },
      "execution_count": 31,
      "outputs": [
        {
          "output_type": "stream",
          "name": "stdout",
          "text": [
            "            Recency  Frequency  Monetary\n",
            "CustomerID                              \n",
            "C1010011         75          2    4750.0\n",
            "C1010012        118          1    1499.0\n",
            "C1010014        155          2    1205.0\n",
            "C1010018         86          1      30.0\n",
            "C1010024        114          1    5000.0\n",
            "            Recency  Frequency  Monetary\n",
            "CustomerID                              \n",
            "C1010078        337          1     124.0\n",
            "C8131142        337          1     500.0\n",
            "C7216961        337          1      75.0\n",
            "C1879878        337          1     199.0\n",
            "C6328442        337          1     110.0\n",
            "            Recency  Frequency  Monetary\n",
            "CustomerID                              \n",
            "C1026833        101          6    1245.0\n",
            "C1736254        103          6    3825.0\n",
            "C6222360          1          6    5300.0\n",
            "C6624352         74          6    2805.0\n",
            "C6735477          1          6    2000.0\n",
            "            Recency  Frequency    Monetary\n",
            "CustomerID                                \n",
            "C7319271        114          1  1560034.99\n",
            "C6677159        110          1  1380002.88\n",
            "C4141768        109          1   991132.22\n",
            "C8217728        245          2   724122.00\n",
            "C1830891        277          1   720001.16\n"
          ]
        }
      ]
    }
  ]
}