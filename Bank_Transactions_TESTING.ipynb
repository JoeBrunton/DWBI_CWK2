{
  "nbformat": 4,
  "nbformat_minor": 0,
  "metadata": {
    "colab": {
      "provenance": []
    },
    "kernelspec": {
      "name": "python3",
      "display_name": "Python 3"
    },
    "language_info": {
      "name": "python"
    }
  },
  "cells": [
    {
      "cell_type": "markdown",
      "source": [
        "# Task A\n",
        "Data preparation\n",
        "1. Identification & removal of null values;\n",
        "2. Identification and removal of invalid transaction amount values;\n",
        "3. Identification of removal of invalid age values;\n",
        "4. Display the 5 top locations where the maximum number of transactions occurred"
      ],
      "metadata": {
        "id": "2HVQZW4CJfck"
      }
    },
    {
      "cell_type": "code",
      "source": [
        "# Importing Pandas to read our data, displaying into a dataframe (df) with 100k+ rows and 9 columns\n",
        "\n",
        "import pandas as pd\n",
        "df = pd.read_csv('bank_transactions.csv')\n",
        "print(df)"
      ],
      "metadata": {
        "colab": {
          "base_uri": "https://localhost:8080/"
        },
        "id": "G0MOcGVoCSth",
        "outputId": "d66877d0-ca08-4a02-bfd4-1eb615880213",
        "collapsed": true
      },
      "execution_count": 4,
      "outputs": [
        {
          "output_type": "stream",
          "name": "stdout",
          "text": [
            "        TransactionID CustomerID CustomerDOB CustGender   CustLocation  \\\n",
            "0                  T1   C5841053     10/1/94          F     JAMSHEDPUR   \n",
            "1                  T2   C2142763      4/4/57          M        JHAJJAR   \n",
            "2                  T3   C4417068    26/11/96          F         MUMBAI   \n",
            "3                  T4   C5342380     14/9/73          F         MUMBAI   \n",
            "4                  T5   C9031234     24/3/88          F    NAVI MUMBAI   \n",
            "...               ...        ...         ...        ...            ...   \n",
            "1048562      T1048563   C8020229      8/4/90          M      NEW DELHI   \n",
            "1048563      T1048564   C6459278     20/2/92          M         NASHIK   \n",
            "1048564      T1048565   C6412354     18/5/89          M      HYDERABAD   \n",
            "1048565      T1048566   C6420483     30/8/78          M  VISAKHAPATNAM   \n",
            "1048566      T1048567   C8337524      5/3/84          M           PUNE   \n",
            "\n",
            "         CustAccountBalance TransactionDate  TransactionTime  \\\n",
            "0                  17819.05          2/8/16           143207   \n",
            "1                   2270.69          2/8/16           141858   \n",
            "2                  17874.44          2/8/16           142712   \n",
            "3                 866503.21          2/8/16           142714   \n",
            "4                   6714.43          2/8/16           181156   \n",
            "...                     ...             ...              ...   \n",
            "1048562             7635.19         18/9/16           184824   \n",
            "1048563            27311.42         18/9/16           183734   \n",
            "1048564           221757.06         18/9/16           183313   \n",
            "1048565            10117.87         18/9/16           184706   \n",
            "1048566            75734.42         18/9/16           181222   \n",
            "\n",
            "         TransactionAmount (INR)  \n",
            "0                           25.0  \n",
            "1                        27999.0  \n",
            "2                          459.0  \n",
            "3                         2060.0  \n",
            "4                         1762.5  \n",
            "...                          ...  \n",
            "1048562                    799.0  \n",
            "1048563                    460.0  \n",
            "1048564                    770.0  \n",
            "1048565                   1000.0  \n",
            "1048566                   1166.0  \n",
            "\n",
            "[1048567 rows x 9 columns]\n"
          ]
        }
      ]
    },
    {
      "cell_type": "markdown",
      "source": [
        "# A.1"
      ],
      "metadata": {
        "id": "NR0CQ60jTBXd"
      }
    },
    {
      "cell_type": "code",
      "source": [
        "# Identifying how many rows per column have null values using isnull method\n",
        "\n",
        "df.isnull().sum()"
      ],
      "metadata": {
        "colab": {
          "base_uri": "https://localhost:8080/",
          "height": 362
        },
        "id": "8egt4gMGC287",
        "outputId": "4cd09a90-6b94-4378-bfa3-7b6364aa6d60",
        "collapsed": true
      },
      "execution_count": 5,
      "outputs": [
        {
          "output_type": "execute_result",
          "data": {
            "text/plain": [
              "TransactionID                 0\n",
              "CustomerID                    0\n",
              "CustomerDOB                3397\n",
              "CustGender                 1100\n",
              "CustLocation                151\n",
              "CustAccountBalance         2369\n",
              "TransactionDate               0\n",
              "TransactionTime               0\n",
              "TransactionAmount (INR)       0\n",
              "dtype: int64"
            ],
            "text/html": [
              "<div>\n",
              "<style scoped>\n",
              "    .dataframe tbody tr th:only-of-type {\n",
              "        vertical-align: middle;\n",
              "    }\n",
              "\n",
              "    .dataframe tbody tr th {\n",
              "        vertical-align: top;\n",
              "    }\n",
              "\n",
              "    .dataframe thead th {\n",
              "        text-align: right;\n",
              "    }\n",
              "</style>\n",
              "<table border=\"1\" class=\"dataframe\">\n",
              "  <thead>\n",
              "    <tr style=\"text-align: right;\">\n",
              "      <th></th>\n",
              "      <th>0</th>\n",
              "    </tr>\n",
              "  </thead>\n",
              "  <tbody>\n",
              "    <tr>\n",
              "      <th>TransactionID</th>\n",
              "      <td>0</td>\n",
              "    </tr>\n",
              "    <tr>\n",
              "      <th>CustomerID</th>\n",
              "      <td>0</td>\n",
              "    </tr>\n",
              "    <tr>\n",
              "      <th>CustomerDOB</th>\n",
              "      <td>3397</td>\n",
              "    </tr>\n",
              "    <tr>\n",
              "      <th>CustGender</th>\n",
              "      <td>1100</td>\n",
              "    </tr>\n",
              "    <tr>\n",
              "      <th>CustLocation</th>\n",
              "      <td>151</td>\n",
              "    </tr>\n",
              "    <tr>\n",
              "      <th>CustAccountBalance</th>\n",
              "      <td>2369</td>\n",
              "    </tr>\n",
              "    <tr>\n",
              "      <th>TransactionDate</th>\n",
              "      <td>0</td>\n",
              "    </tr>\n",
              "    <tr>\n",
              "      <th>TransactionTime</th>\n",
              "      <td>0</td>\n",
              "    </tr>\n",
              "    <tr>\n",
              "      <th>TransactionAmount (INR)</th>\n",
              "      <td>0</td>\n",
              "    </tr>\n",
              "  </tbody>\n",
              "</table>\n",
              "</div><br><label><b>dtype:</b> int64</label>"
            ]
          },
          "metadata": {},
          "execution_count": 5
        }
      ]
    },
    {
      "cell_type": "code",
      "source": [
        "# Creating a new df called df_clean, using dropna method to remove rows containing null values\n",
        "\n",
        "df_clean = df.dropna()\n",
        "print(df_clean)"
      ],
      "metadata": {
        "colab": {
          "base_uri": "https://localhost:8080/"
        },
        "id": "vuopjaNXDTes",
        "outputId": "7e26a2bc-88c6-404d-e707-26a37fe9ee46",
        "collapsed": true
      },
      "execution_count": 6,
      "outputs": [
        {
          "output_type": "stream",
          "name": "stdout",
          "text": [
            "        TransactionID CustomerID CustomerDOB CustGender   CustLocation  \\\n",
            "0                  T1   C5841053     10/1/94          F     JAMSHEDPUR   \n",
            "1                  T2   C2142763      4/4/57          M        JHAJJAR   \n",
            "2                  T3   C4417068    26/11/96          F         MUMBAI   \n",
            "3                  T4   C5342380     14/9/73          F         MUMBAI   \n",
            "4                  T5   C9031234     24/3/88          F    NAVI MUMBAI   \n",
            "...               ...        ...         ...        ...            ...   \n",
            "1048562      T1048563   C8020229      8/4/90          M      NEW DELHI   \n",
            "1048563      T1048564   C6459278     20/2/92          M         NASHIK   \n",
            "1048564      T1048565   C6412354     18/5/89          M      HYDERABAD   \n",
            "1048565      T1048566   C6420483     30/8/78          M  VISAKHAPATNAM   \n",
            "1048566      T1048567   C8337524      5/3/84          M           PUNE   \n",
            "\n",
            "         CustAccountBalance TransactionDate  TransactionTime  \\\n",
            "0                  17819.05          2/8/16           143207   \n",
            "1                   2270.69          2/8/16           141858   \n",
            "2                  17874.44          2/8/16           142712   \n",
            "3                 866503.21          2/8/16           142714   \n",
            "4                   6714.43          2/8/16           181156   \n",
            "...                     ...             ...              ...   \n",
            "1048562             7635.19         18/9/16           184824   \n",
            "1048563            27311.42         18/9/16           183734   \n",
            "1048564           221757.06         18/9/16           183313   \n",
            "1048565            10117.87         18/9/16           184706   \n",
            "1048566            75734.42         18/9/16           181222   \n",
            "\n",
            "         TransactionAmount (INR)  \n",
            "0                           25.0  \n",
            "1                        27999.0  \n",
            "2                          459.0  \n",
            "3                         2060.0  \n",
            "4                         1762.5  \n",
            "...                          ...  \n",
            "1048562                    799.0  \n",
            "1048563                    460.0  \n",
            "1048564                    770.0  \n",
            "1048565                   1000.0  \n",
            "1048566                   1166.0  \n",
            "\n",
            "[1041614 rows x 9 columns]\n"
          ]
        }
      ]
    },
    {
      "cell_type": "code",
      "source": [
        "# Checking new dataframe to see whether rows containing null values has been cleaned\n",
        "\n",
        "df_clean.isnull()"
      ],
      "metadata": {
        "colab": {
          "base_uri": "https://localhost:8080/",
          "height": 456
        },
        "id": "cQ0R1ewhDdPj",
        "outputId": "5496aafa-977b-4132-a874-51c6ab31a687",
        "collapsed": true
      },
      "execution_count": 7,
      "outputs": [
        {
          "output_type": "execute_result",
          "data": {
            "text/plain": [
              "         TransactionID  CustomerID  CustomerDOB  CustGender  CustLocation  \\\n",
              "0                False       False        False       False         False   \n",
              "1                False       False        False       False         False   \n",
              "2                False       False        False       False         False   \n",
              "3                False       False        False       False         False   \n",
              "4                False       False        False       False         False   \n",
              "...                ...         ...          ...         ...           ...   \n",
              "1048562          False       False        False       False         False   \n",
              "1048563          False       False        False       False         False   \n",
              "1048564          False       False        False       False         False   \n",
              "1048565          False       False        False       False         False   \n",
              "1048566          False       False        False       False         False   \n",
              "\n",
              "         CustAccountBalance  TransactionDate  TransactionTime  \\\n",
              "0                     False            False            False   \n",
              "1                     False            False            False   \n",
              "2                     False            False            False   \n",
              "3                     False            False            False   \n",
              "4                     False            False            False   \n",
              "...                     ...              ...              ...   \n",
              "1048562               False            False            False   \n",
              "1048563               False            False            False   \n",
              "1048564               False            False            False   \n",
              "1048565               False            False            False   \n",
              "1048566               False            False            False   \n",
              "\n",
              "         TransactionAmount (INR)  \n",
              "0                          False  \n",
              "1                          False  \n",
              "2                          False  \n",
              "3                          False  \n",
              "4                          False  \n",
              "...                          ...  \n",
              "1048562                    False  \n",
              "1048563                    False  \n",
              "1048564                    False  \n",
              "1048565                    False  \n",
              "1048566                    False  \n",
              "\n",
              "[1041614 rows x 9 columns]"
            ],
            "text/html": [
              "\n",
              "  <div id=\"df-044c8a4b-640b-4d33-b4bc-f400757e8035\" class=\"colab-df-container\">\n",
              "    <div>\n",
              "<style scoped>\n",
              "    .dataframe tbody tr th:only-of-type {\n",
              "        vertical-align: middle;\n",
              "    }\n",
              "\n",
              "    .dataframe tbody tr th {\n",
              "        vertical-align: top;\n",
              "    }\n",
              "\n",
              "    .dataframe thead th {\n",
              "        text-align: right;\n",
              "    }\n",
              "</style>\n",
              "<table border=\"1\" class=\"dataframe\">\n",
              "  <thead>\n",
              "    <tr style=\"text-align: right;\">\n",
              "      <th></th>\n",
              "      <th>TransactionID</th>\n",
              "      <th>CustomerID</th>\n",
              "      <th>CustomerDOB</th>\n",
              "      <th>CustGender</th>\n",
              "      <th>CustLocation</th>\n",
              "      <th>CustAccountBalance</th>\n",
              "      <th>TransactionDate</th>\n",
              "      <th>TransactionTime</th>\n",
              "      <th>TransactionAmount (INR)</th>\n",
              "    </tr>\n",
              "  </thead>\n",
              "  <tbody>\n",
              "    <tr>\n",
              "      <th>0</th>\n",
              "      <td>False</td>\n",
              "      <td>False</td>\n",
              "      <td>False</td>\n",
              "      <td>False</td>\n",
              "      <td>False</td>\n",
              "      <td>False</td>\n",
              "      <td>False</td>\n",
              "      <td>False</td>\n",
              "      <td>False</td>\n",
              "    </tr>\n",
              "    <tr>\n",
              "      <th>1</th>\n",
              "      <td>False</td>\n",
              "      <td>False</td>\n",
              "      <td>False</td>\n",
              "      <td>False</td>\n",
              "      <td>False</td>\n",
              "      <td>False</td>\n",
              "      <td>False</td>\n",
              "      <td>False</td>\n",
              "      <td>False</td>\n",
              "    </tr>\n",
              "    <tr>\n",
              "      <th>2</th>\n",
              "      <td>False</td>\n",
              "      <td>False</td>\n",
              "      <td>False</td>\n",
              "      <td>False</td>\n",
              "      <td>False</td>\n",
              "      <td>False</td>\n",
              "      <td>False</td>\n",
              "      <td>False</td>\n",
              "      <td>False</td>\n",
              "    </tr>\n",
              "    <tr>\n",
              "      <th>3</th>\n",
              "      <td>False</td>\n",
              "      <td>False</td>\n",
              "      <td>False</td>\n",
              "      <td>False</td>\n",
              "      <td>False</td>\n",
              "      <td>False</td>\n",
              "      <td>False</td>\n",
              "      <td>False</td>\n",
              "      <td>False</td>\n",
              "    </tr>\n",
              "    <tr>\n",
              "      <th>4</th>\n",
              "      <td>False</td>\n",
              "      <td>False</td>\n",
              "      <td>False</td>\n",
              "      <td>False</td>\n",
              "      <td>False</td>\n",
              "      <td>False</td>\n",
              "      <td>False</td>\n",
              "      <td>False</td>\n",
              "      <td>False</td>\n",
              "    </tr>\n",
              "    <tr>\n",
              "      <th>...</th>\n",
              "      <td>...</td>\n",
              "      <td>...</td>\n",
              "      <td>...</td>\n",
              "      <td>...</td>\n",
              "      <td>...</td>\n",
              "      <td>...</td>\n",
              "      <td>...</td>\n",
              "      <td>...</td>\n",
              "      <td>...</td>\n",
              "    </tr>\n",
              "    <tr>\n",
              "      <th>1048562</th>\n",
              "      <td>False</td>\n",
              "      <td>False</td>\n",
              "      <td>False</td>\n",
              "      <td>False</td>\n",
              "      <td>False</td>\n",
              "      <td>False</td>\n",
              "      <td>False</td>\n",
              "      <td>False</td>\n",
              "      <td>False</td>\n",
              "    </tr>\n",
              "    <tr>\n",
              "      <th>1048563</th>\n",
              "      <td>False</td>\n",
              "      <td>False</td>\n",
              "      <td>False</td>\n",
              "      <td>False</td>\n",
              "      <td>False</td>\n",
              "      <td>False</td>\n",
              "      <td>False</td>\n",
              "      <td>False</td>\n",
              "      <td>False</td>\n",
              "    </tr>\n",
              "    <tr>\n",
              "      <th>1048564</th>\n",
              "      <td>False</td>\n",
              "      <td>False</td>\n",
              "      <td>False</td>\n",
              "      <td>False</td>\n",
              "      <td>False</td>\n",
              "      <td>False</td>\n",
              "      <td>False</td>\n",
              "      <td>False</td>\n",
              "      <td>False</td>\n",
              "    </tr>\n",
              "    <tr>\n",
              "      <th>1048565</th>\n",
              "      <td>False</td>\n",
              "      <td>False</td>\n",
              "      <td>False</td>\n",
              "      <td>False</td>\n",
              "      <td>False</td>\n",
              "      <td>False</td>\n",
              "      <td>False</td>\n",
              "      <td>False</td>\n",
              "      <td>False</td>\n",
              "    </tr>\n",
              "    <tr>\n",
              "      <th>1048566</th>\n",
              "      <td>False</td>\n",
              "      <td>False</td>\n",
              "      <td>False</td>\n",
              "      <td>False</td>\n",
              "      <td>False</td>\n",
              "      <td>False</td>\n",
              "      <td>False</td>\n",
              "      <td>False</td>\n",
              "      <td>False</td>\n",
              "    </tr>\n",
              "  </tbody>\n",
              "</table>\n",
              "<p>1041614 rows × 9 columns</p>\n",
              "</div>\n",
              "    <div class=\"colab-df-buttons\">\n",
              "\n",
              "  <div class=\"colab-df-container\">\n",
              "    <button class=\"colab-df-convert\" onclick=\"convertToInteractive('df-044c8a4b-640b-4d33-b4bc-f400757e8035')\"\n",
              "            title=\"Convert this dataframe to an interactive table.\"\n",
              "            style=\"display:none;\">\n",
              "\n",
              "  <svg xmlns=\"http://www.w3.org/2000/svg\" height=\"24px\" viewBox=\"0 -960 960 960\">\n",
              "    <path d=\"M120-120v-720h720v720H120Zm60-500h600v-160H180v160Zm220 220h160v-160H400v160Zm0 220h160v-160H400v160ZM180-400h160v-160H180v160Zm440 0h160v-160H620v160ZM180-180h160v-160H180v160Zm440 0h160v-160H620v160Z\"/>\n",
              "  </svg>\n",
              "    </button>\n",
              "\n",
              "  <style>\n",
              "    .colab-df-container {\n",
              "      display:flex;\n",
              "      gap: 12px;\n",
              "    }\n",
              "\n",
              "    .colab-df-convert {\n",
              "      background-color: #E8F0FE;\n",
              "      border: none;\n",
              "      border-radius: 50%;\n",
              "      cursor: pointer;\n",
              "      display: none;\n",
              "      fill: #1967D2;\n",
              "      height: 32px;\n",
              "      padding: 0 0 0 0;\n",
              "      width: 32px;\n",
              "    }\n",
              "\n",
              "    .colab-df-convert:hover {\n",
              "      background-color: #E2EBFA;\n",
              "      box-shadow: 0px 1px 2px rgba(60, 64, 67, 0.3), 0px 1px 3px 1px rgba(60, 64, 67, 0.15);\n",
              "      fill: #174EA6;\n",
              "    }\n",
              "\n",
              "    .colab-df-buttons div {\n",
              "      margin-bottom: 4px;\n",
              "    }\n",
              "\n",
              "    [theme=dark] .colab-df-convert {\n",
              "      background-color: #3B4455;\n",
              "      fill: #D2E3FC;\n",
              "    }\n",
              "\n",
              "    [theme=dark] .colab-df-convert:hover {\n",
              "      background-color: #434B5C;\n",
              "      box-shadow: 0px 1px 3px 1px rgba(0, 0, 0, 0.15);\n",
              "      filter: drop-shadow(0px 1px 2px rgba(0, 0, 0, 0.3));\n",
              "      fill: #FFFFFF;\n",
              "    }\n",
              "  </style>\n",
              "\n",
              "    <script>\n",
              "      const buttonEl =\n",
              "        document.querySelector('#df-044c8a4b-640b-4d33-b4bc-f400757e8035 button.colab-df-convert');\n",
              "      buttonEl.style.display =\n",
              "        google.colab.kernel.accessAllowed ? 'block' : 'none';\n",
              "\n",
              "      async function convertToInteractive(key) {\n",
              "        const element = document.querySelector('#df-044c8a4b-640b-4d33-b4bc-f400757e8035');\n",
              "        const dataTable =\n",
              "          await google.colab.kernel.invokeFunction('convertToInteractive',\n",
              "                                                    [key], {});\n",
              "        if (!dataTable) return;\n",
              "\n",
              "        const docLinkHtml = 'Like what you see? Visit the ' +\n",
              "          '<a target=\"_blank\" href=https://colab.research.google.com/notebooks/data_table.ipynb>data table notebook</a>'\n",
              "          + ' to learn more about interactive tables.';\n",
              "        element.innerHTML = '';\n",
              "        dataTable['output_type'] = 'display_data';\n",
              "        await google.colab.output.renderOutput(dataTable, element);\n",
              "        const docLink = document.createElement('div');\n",
              "        docLink.innerHTML = docLinkHtml;\n",
              "        element.appendChild(docLink);\n",
              "      }\n",
              "    </script>\n",
              "  </div>\n",
              "\n",
              "\n",
              "<div id=\"df-ab261138-b406-4ac8-9999-36e5959a382d\">\n",
              "  <button class=\"colab-df-quickchart\" onclick=\"quickchart('df-ab261138-b406-4ac8-9999-36e5959a382d')\"\n",
              "            title=\"Suggest charts\"\n",
              "            style=\"display:none;\">\n",
              "\n",
              "<svg xmlns=\"http://www.w3.org/2000/svg\" height=\"24px\"viewBox=\"0 0 24 24\"\n",
              "     width=\"24px\">\n",
              "    <g>\n",
              "        <path d=\"M19 3H5c-1.1 0-2 .9-2 2v14c0 1.1.9 2 2 2h14c1.1 0 2-.9 2-2V5c0-1.1-.9-2-2-2zM9 17H7v-7h2v7zm4 0h-2V7h2v10zm4 0h-2v-4h2v4z\"/>\n",
              "    </g>\n",
              "</svg>\n",
              "  </button>\n",
              "\n",
              "<style>\n",
              "  .colab-df-quickchart {\n",
              "      --bg-color: #E8F0FE;\n",
              "      --fill-color: #1967D2;\n",
              "      --hover-bg-color: #E2EBFA;\n",
              "      --hover-fill-color: #174EA6;\n",
              "      --disabled-fill-color: #AAA;\n",
              "      --disabled-bg-color: #DDD;\n",
              "  }\n",
              "\n",
              "  [theme=dark] .colab-df-quickchart {\n",
              "      --bg-color: #3B4455;\n",
              "      --fill-color: #D2E3FC;\n",
              "      --hover-bg-color: #434B5C;\n",
              "      --hover-fill-color: #FFFFFF;\n",
              "      --disabled-bg-color: #3B4455;\n",
              "      --disabled-fill-color: #666;\n",
              "  }\n",
              "\n",
              "  .colab-df-quickchart {\n",
              "    background-color: var(--bg-color);\n",
              "    border: none;\n",
              "    border-radius: 50%;\n",
              "    cursor: pointer;\n",
              "    display: none;\n",
              "    fill: var(--fill-color);\n",
              "    height: 32px;\n",
              "    padding: 0;\n",
              "    width: 32px;\n",
              "  }\n",
              "\n",
              "  .colab-df-quickchart:hover {\n",
              "    background-color: var(--hover-bg-color);\n",
              "    box-shadow: 0 1px 2px rgba(60, 64, 67, 0.3), 0 1px 3px 1px rgba(60, 64, 67, 0.15);\n",
              "    fill: var(--button-hover-fill-color);\n",
              "  }\n",
              "\n",
              "  .colab-df-quickchart-complete:disabled,\n",
              "  .colab-df-quickchart-complete:disabled:hover {\n",
              "    background-color: var(--disabled-bg-color);\n",
              "    fill: var(--disabled-fill-color);\n",
              "    box-shadow: none;\n",
              "  }\n",
              "\n",
              "  .colab-df-spinner {\n",
              "    border: 2px solid var(--fill-color);\n",
              "    border-color: transparent;\n",
              "    border-bottom-color: var(--fill-color);\n",
              "    animation:\n",
              "      spin 1s steps(1) infinite;\n",
              "  }\n",
              "\n",
              "  @keyframes spin {\n",
              "    0% {\n",
              "      border-color: transparent;\n",
              "      border-bottom-color: var(--fill-color);\n",
              "      border-left-color: var(--fill-color);\n",
              "    }\n",
              "    20% {\n",
              "      border-color: transparent;\n",
              "      border-left-color: var(--fill-color);\n",
              "      border-top-color: var(--fill-color);\n",
              "    }\n",
              "    30% {\n",
              "      border-color: transparent;\n",
              "      border-left-color: var(--fill-color);\n",
              "      border-top-color: var(--fill-color);\n",
              "      border-right-color: var(--fill-color);\n",
              "    }\n",
              "    40% {\n",
              "      border-color: transparent;\n",
              "      border-right-color: var(--fill-color);\n",
              "      border-top-color: var(--fill-color);\n",
              "    }\n",
              "    60% {\n",
              "      border-color: transparent;\n",
              "      border-right-color: var(--fill-color);\n",
              "    }\n",
              "    80% {\n",
              "      border-color: transparent;\n",
              "      border-right-color: var(--fill-color);\n",
              "      border-bottom-color: var(--fill-color);\n",
              "    }\n",
              "    90% {\n",
              "      border-color: transparent;\n",
              "      border-bottom-color: var(--fill-color);\n",
              "    }\n",
              "  }\n",
              "</style>\n",
              "\n",
              "  <script>\n",
              "    async function quickchart(key) {\n",
              "      const quickchartButtonEl =\n",
              "        document.querySelector('#' + key + ' button');\n",
              "      quickchartButtonEl.disabled = true;  // To prevent multiple clicks.\n",
              "      quickchartButtonEl.classList.add('colab-df-spinner');\n",
              "      try {\n",
              "        const charts = await google.colab.kernel.invokeFunction(\n",
              "            'suggestCharts', [key], {});\n",
              "      } catch (error) {\n",
              "        console.error('Error during call to suggestCharts:', error);\n",
              "      }\n",
              "      quickchartButtonEl.classList.remove('colab-df-spinner');\n",
              "      quickchartButtonEl.classList.add('colab-df-quickchart-complete');\n",
              "    }\n",
              "    (() => {\n",
              "      let quickchartButtonEl =\n",
              "        document.querySelector('#df-ab261138-b406-4ac8-9999-36e5959a382d button');\n",
              "      quickchartButtonEl.style.display =\n",
              "        google.colab.kernel.accessAllowed ? 'block' : 'none';\n",
              "    })();\n",
              "  </script>\n",
              "</div>\n",
              "\n",
              "    </div>\n",
              "  </div>\n"
            ],
            "application/vnd.google.colaboratory.intrinsic+json": {
              "type": "dataframe"
            }
          },
          "metadata": {},
          "execution_count": 7
        }
      ]
    },
    {
      "cell_type": "code",
      "source": [
        "# Or checking as a summarised overview of the full dataset by adding the .sum() function\n",
        "\n",
        "df_clean.isnull().sum()"
      ],
      "metadata": {
        "colab": {
          "base_uri": "https://localhost:8080/",
          "height": 362
        },
        "id": "NLavje8lLgnM",
        "outputId": "220fccce-4d0d-45a0-bac3-6feae77d7479",
        "collapsed": true
      },
      "execution_count": 8,
      "outputs": [
        {
          "output_type": "execute_result",
          "data": {
            "text/plain": [
              "TransactionID              0\n",
              "CustomerID                 0\n",
              "CustomerDOB                0\n",
              "CustGender                 0\n",
              "CustLocation               0\n",
              "CustAccountBalance         0\n",
              "TransactionDate            0\n",
              "TransactionTime            0\n",
              "TransactionAmount (INR)    0\n",
              "dtype: int64"
            ],
            "text/html": [
              "<div>\n",
              "<style scoped>\n",
              "    .dataframe tbody tr th:only-of-type {\n",
              "        vertical-align: middle;\n",
              "    }\n",
              "\n",
              "    .dataframe tbody tr th {\n",
              "        vertical-align: top;\n",
              "    }\n",
              "\n",
              "    .dataframe thead th {\n",
              "        text-align: right;\n",
              "    }\n",
              "</style>\n",
              "<table border=\"1\" class=\"dataframe\">\n",
              "  <thead>\n",
              "    <tr style=\"text-align: right;\">\n",
              "      <th></th>\n",
              "      <th>0</th>\n",
              "    </tr>\n",
              "  </thead>\n",
              "  <tbody>\n",
              "    <tr>\n",
              "      <th>TransactionID</th>\n",
              "      <td>0</td>\n",
              "    </tr>\n",
              "    <tr>\n",
              "      <th>CustomerID</th>\n",
              "      <td>0</td>\n",
              "    </tr>\n",
              "    <tr>\n",
              "      <th>CustomerDOB</th>\n",
              "      <td>0</td>\n",
              "    </tr>\n",
              "    <tr>\n",
              "      <th>CustGender</th>\n",
              "      <td>0</td>\n",
              "    </tr>\n",
              "    <tr>\n",
              "      <th>CustLocation</th>\n",
              "      <td>0</td>\n",
              "    </tr>\n",
              "    <tr>\n",
              "      <th>CustAccountBalance</th>\n",
              "      <td>0</td>\n",
              "    </tr>\n",
              "    <tr>\n",
              "      <th>TransactionDate</th>\n",
              "      <td>0</td>\n",
              "    </tr>\n",
              "    <tr>\n",
              "      <th>TransactionTime</th>\n",
              "      <td>0</td>\n",
              "    </tr>\n",
              "    <tr>\n",
              "      <th>TransactionAmount (INR)</th>\n",
              "      <td>0</td>\n",
              "    </tr>\n",
              "  </tbody>\n",
              "</table>\n",
              "</div><br><label><b>dtype:</b> int64</label>"
            ]
          },
          "metadata": {},
          "execution_count": 8
        }
      ]
    },
    {
      "cell_type": "code",
      "source": [
        "# Benchmark length of df after removing null values\n",
        "len(df_clean)"
      ],
      "metadata": {
        "colab": {
          "base_uri": "https://localhost:8080/"
        },
        "id": "qSlzEo6znAgL",
        "outputId": "aad35d40-ec7b-4e00-8842-6844cce0241d"
      },
      "execution_count": 9,
      "outputs": [
        {
          "output_type": "execute_result",
          "data": {
            "text/plain": [
              "1041614"
            ]
          },
          "metadata": {},
          "execution_count": 9
        }
      ]
    },
    {
      "cell_type": "markdown",
      "source": [
        "# A.2"
      ],
      "metadata": {
        "id": "6fVYJAZ5grpR"
      }
    },
    {
      "cell_type": "code",
      "source": [
        "# Attempting to remove rows containing transaction amounts of zero (as an integer) (didn't work, same number of rows)\n",
        "\n",
        "df_clean = df_clean[df_clean['TransactionAmount (INR)'] > 0]\n",
        "print(df_clean)"
      ],
      "metadata": {
        "colab": {
          "base_uri": "https://localhost:8080/"
        },
        "id": "OU8ERJ8rXRpF",
        "outputId": "5c22fe44-dd15-422f-9afe-a4bb91898a58",
        "collapsed": true
      },
      "execution_count": 10,
      "outputs": [
        {
          "output_type": "stream",
          "name": "stdout",
          "text": [
            "        TransactionID CustomerID CustomerDOB CustGender   CustLocation  \\\n",
            "0                  T1   C5841053     10/1/94          F     JAMSHEDPUR   \n",
            "1                  T2   C2142763      4/4/57          M        JHAJJAR   \n",
            "2                  T3   C4417068    26/11/96          F         MUMBAI   \n",
            "3                  T4   C5342380     14/9/73          F         MUMBAI   \n",
            "4                  T5   C9031234     24/3/88          F    NAVI MUMBAI   \n",
            "...               ...        ...         ...        ...            ...   \n",
            "1048562      T1048563   C8020229      8/4/90          M      NEW DELHI   \n",
            "1048563      T1048564   C6459278     20/2/92          M         NASHIK   \n",
            "1048564      T1048565   C6412354     18/5/89          M      HYDERABAD   \n",
            "1048565      T1048566   C6420483     30/8/78          M  VISAKHAPATNAM   \n",
            "1048566      T1048567   C8337524      5/3/84          M           PUNE   \n",
            "\n",
            "         CustAccountBalance TransactionDate  TransactionTime  \\\n",
            "0                  17819.05          2/8/16           143207   \n",
            "1                   2270.69          2/8/16           141858   \n",
            "2                  17874.44          2/8/16           142712   \n",
            "3                 866503.21          2/8/16           142714   \n",
            "4                   6714.43          2/8/16           181156   \n",
            "...                     ...             ...              ...   \n",
            "1048562             7635.19         18/9/16           184824   \n",
            "1048563            27311.42         18/9/16           183734   \n",
            "1048564           221757.06         18/9/16           183313   \n",
            "1048565            10117.87         18/9/16           184706   \n",
            "1048566            75734.42         18/9/16           181222   \n",
            "\n",
            "         TransactionAmount (INR)  \n",
            "0                           25.0  \n",
            "1                        27999.0  \n",
            "2                          459.0  \n",
            "3                         2060.0  \n",
            "4                         1762.5  \n",
            "...                          ...  \n",
            "1048562                    799.0  \n",
            "1048563                    460.0  \n",
            "1048564                    770.0  \n",
            "1048565                   1000.0  \n",
            "1048566                   1166.0  \n",
            "\n",
            "[1040794 rows x 9 columns]\n"
          ]
        }
      ]
    },
    {
      "cell_type": "code",
      "source": [
        "# Testing to see whether the row, (T385) containing a zero value under TransactionAmount still exists within the df\n",
        "print(df_clean[df_clean['TransactionID'] == 'T385'].to_string(index=False))"
      ],
      "metadata": {
        "colab": {
          "base_uri": "https://localhost:8080/"
        },
        "id": "chQBCeZQa5n2",
        "outputId": "bc43c0e5-21f8-40d4-b0de-0b98eb5a7b5b",
        "collapsed": true
      },
      "execution_count": 11,
      "outputs": [
        {
          "output_type": "stream",
          "name": "stdout",
          "text": [
            "Empty DataFrame\n",
            "Columns: [TransactionID, CustomerID, CustomerDOB, CustGender, CustLocation, CustAccountBalance, TransactionDate, TransactionTime, TransactionAmount (INR)]\n",
            "Index: []\n"
          ]
        }
      ]
    },
    {
      "cell_type": "code",
      "source": [
        "# Attempting to remove rows containing transaction amounts of zero (as a string)\n",
        "\n",
        "df_stringtest = df_clean[df_clean['TransactionAmount (INR)'] != '0']\n",
        "print(df_stringtest)"
      ],
      "metadata": {
        "colab": {
          "base_uri": "https://localhost:8080/"
        },
        "id": "jP1Zj-yTdMD0",
        "outputId": "2a74a530-5673-4361-e6db-711dbaf8fda6",
        "collapsed": true
      },
      "execution_count": 12,
      "outputs": [
        {
          "output_type": "stream",
          "name": "stdout",
          "text": [
            "        TransactionID CustomerID CustomerDOB CustGender   CustLocation  \\\n",
            "0                  T1   C5841053     10/1/94          F     JAMSHEDPUR   \n",
            "1                  T2   C2142763      4/4/57          M        JHAJJAR   \n",
            "2                  T3   C4417068    26/11/96          F         MUMBAI   \n",
            "3                  T4   C5342380     14/9/73          F         MUMBAI   \n",
            "4                  T5   C9031234     24/3/88          F    NAVI MUMBAI   \n",
            "...               ...        ...         ...        ...            ...   \n",
            "1048562      T1048563   C8020229      8/4/90          M      NEW DELHI   \n",
            "1048563      T1048564   C6459278     20/2/92          M         NASHIK   \n",
            "1048564      T1048565   C6412354     18/5/89          M      HYDERABAD   \n",
            "1048565      T1048566   C6420483     30/8/78          M  VISAKHAPATNAM   \n",
            "1048566      T1048567   C8337524      5/3/84          M           PUNE   \n",
            "\n",
            "         CustAccountBalance TransactionDate  TransactionTime  \\\n",
            "0                  17819.05          2/8/16           143207   \n",
            "1                   2270.69          2/8/16           141858   \n",
            "2                  17874.44          2/8/16           142712   \n",
            "3                 866503.21          2/8/16           142714   \n",
            "4                   6714.43          2/8/16           181156   \n",
            "...                     ...             ...              ...   \n",
            "1048562             7635.19         18/9/16           184824   \n",
            "1048563            27311.42         18/9/16           183734   \n",
            "1048564           221757.06         18/9/16           183313   \n",
            "1048565            10117.87         18/9/16           184706   \n",
            "1048566            75734.42         18/9/16           181222   \n",
            "\n",
            "         TransactionAmount (INR)  \n",
            "0                           25.0  \n",
            "1                        27999.0  \n",
            "2                          459.0  \n",
            "3                         2060.0  \n",
            "4                         1762.5  \n",
            "...                          ...  \n",
            "1048562                    799.0  \n",
            "1048563                    460.0  \n",
            "1048564                    770.0  \n",
            "1048565                   1000.0  \n",
            "1048566                   1166.0  \n",
            "\n",
            "[1040794 rows x 9 columns]\n"
          ]
        }
      ]
    },
    {
      "cell_type": "code",
      "source": [
        "# Testing for type of transaction amount (int/string etc.)\n",
        "\n",
        "df_clean['TransactionAmount (INR)'].dtype"
      ],
      "metadata": {
        "colab": {
          "base_uri": "https://localhost:8080/"
        },
        "id": "KYZQJAfUfhuP",
        "outputId": "0f3b166f-0b46-4ad9-d42d-89835fdd0833"
      },
      "execution_count": 13,
      "outputs": [
        {
          "output_type": "execute_result",
          "data": {
            "text/plain": [
              "dtype('float64')"
            ]
          },
          "metadata": {},
          "execution_count": 13
        }
      ]
    },
    {
      "cell_type": "code",
      "source": [
        "# Testing to see how many transactions of 0.01 there are before cleaning transaction amounts below 0.01\n",
        "df_clean[df_clean['TransactionAmount (INR)'] == 0.01].sum()"
      ],
      "metadata": {
        "colab": {
          "base_uri": "https://localhost:8080/",
          "height": 362
        },
        "id": "n_cMc3FfWTsK",
        "outputId": "73280ee8-edb4-4981-c262-098f7137ee17",
        "collapsed": true
      },
      "execution_count": 14,
      "outputs": [
        {
          "output_type": "execute_result",
          "data": {
            "text/plain": [
              "TransactionID              T6313T27163T30260T64413T72242T87999T97070T9819...\n",
              "CustomerID                 C4319866C2519818C5815789C3425913C5130473C38272...\n",
              "CustomerDOB                1/12/931/12/9321/3/636/2/9721/8/904/3/845/8/95...\n",
              "CustGender                                          MMMMMMMMMMFMMMMMMMMMMMMM\n",
              "CustLocation               MAUMAUMUMBAIPANIPATKARNALCHENNAITHANETHANEARIY...\n",
              "CustAccountBalance                                                2003967.97\n",
              "TransactionDate            25/9/1625/9/1625/9/162/8/162/8/161/8/161/8/161...\n",
              "TransactionTime                                                      2801925\n",
              "TransactionAmount (INR)                                                 0.24\n",
              "dtype: object"
            ],
            "text/html": [
              "<div>\n",
              "<style scoped>\n",
              "    .dataframe tbody tr th:only-of-type {\n",
              "        vertical-align: middle;\n",
              "    }\n",
              "\n",
              "    .dataframe tbody tr th {\n",
              "        vertical-align: top;\n",
              "    }\n",
              "\n",
              "    .dataframe thead th {\n",
              "        text-align: right;\n",
              "    }\n",
              "</style>\n",
              "<table border=\"1\" class=\"dataframe\">\n",
              "  <thead>\n",
              "    <tr style=\"text-align: right;\">\n",
              "      <th></th>\n",
              "      <th>0</th>\n",
              "    </tr>\n",
              "  </thead>\n",
              "  <tbody>\n",
              "    <tr>\n",
              "      <th>TransactionID</th>\n",
              "      <td>T6313T27163T30260T64413T72242T87999T97070T9819...</td>\n",
              "    </tr>\n",
              "    <tr>\n",
              "      <th>CustomerID</th>\n",
              "      <td>C4319866C2519818C5815789C3425913C5130473C38272...</td>\n",
              "    </tr>\n",
              "    <tr>\n",
              "      <th>CustomerDOB</th>\n",
              "      <td>1/12/931/12/9321/3/636/2/9721/8/904/3/845/8/95...</td>\n",
              "    </tr>\n",
              "    <tr>\n",
              "      <th>CustGender</th>\n",
              "      <td>MMMMMMMMMMFMMMMMMMMMMMMM</td>\n",
              "    </tr>\n",
              "    <tr>\n",
              "      <th>CustLocation</th>\n",
              "      <td>MAUMAUMUMBAIPANIPATKARNALCHENNAITHANETHANEARIY...</td>\n",
              "    </tr>\n",
              "    <tr>\n",
              "      <th>CustAccountBalance</th>\n",
              "      <td>2003967.97</td>\n",
              "    </tr>\n",
              "    <tr>\n",
              "      <th>TransactionDate</th>\n",
              "      <td>25/9/1625/9/1625/9/162/8/162/8/161/8/161/8/161...</td>\n",
              "    </tr>\n",
              "    <tr>\n",
              "      <th>TransactionTime</th>\n",
              "      <td>2801925</td>\n",
              "    </tr>\n",
              "    <tr>\n",
              "      <th>TransactionAmount (INR)</th>\n",
              "      <td>0.24</td>\n",
              "    </tr>\n",
              "  </tbody>\n",
              "</table>\n",
              "</div><br><label><b>dtype:</b> object</label>"
            ]
          },
          "metadata": {},
          "execution_count": 14
        }
      ]
    },
    {
      "cell_type": "code",
      "source": [
        "# Testing to see if values between 0.00 and 0.01 can be removed. (they can)\n",
        "# df_floattest = df_clean[df_clean['TransactionAmount (INR)'] > 0.01] # - this code also removes transactions of 0.01\n",
        "df_floattest = df_clean[df_clean['TransactionAmount (INR)'] >= 0.01] # - this code only removes values below 0.01\n",
        "print(df_floattest)"
      ],
      "metadata": {
        "colab": {
          "base_uri": "https://localhost:8080/"
        },
        "id": "Hu7J0ZSkgpeN",
        "outputId": "2428ddd8-7243-4f79-ea54-9a02bac28ae1",
        "collapsed": true
      },
      "execution_count": 15,
      "outputs": [
        {
          "output_type": "stream",
          "name": "stdout",
          "text": [
            "        TransactionID CustomerID CustomerDOB CustGender   CustLocation  \\\n",
            "0                  T1   C5841053     10/1/94          F     JAMSHEDPUR   \n",
            "1                  T2   C2142763      4/4/57          M        JHAJJAR   \n",
            "2                  T3   C4417068    26/11/96          F         MUMBAI   \n",
            "3                  T4   C5342380     14/9/73          F         MUMBAI   \n",
            "4                  T5   C9031234     24/3/88          F    NAVI MUMBAI   \n",
            "...               ...        ...         ...        ...            ...   \n",
            "1048562      T1048563   C8020229      8/4/90          M      NEW DELHI   \n",
            "1048563      T1048564   C6459278     20/2/92          M         NASHIK   \n",
            "1048564      T1048565   C6412354     18/5/89          M      HYDERABAD   \n",
            "1048565      T1048566   C6420483     30/8/78          M  VISAKHAPATNAM   \n",
            "1048566      T1048567   C8337524      5/3/84          M           PUNE   \n",
            "\n",
            "         CustAccountBalance TransactionDate  TransactionTime  \\\n",
            "0                  17819.05          2/8/16           143207   \n",
            "1                   2270.69          2/8/16           141858   \n",
            "2                  17874.44          2/8/16           142712   \n",
            "3                 866503.21          2/8/16           142714   \n",
            "4                   6714.43          2/8/16           181156   \n",
            "...                     ...             ...              ...   \n",
            "1048562             7635.19         18/9/16           184824   \n",
            "1048563            27311.42         18/9/16           183734   \n",
            "1048564           221757.06         18/9/16           183313   \n",
            "1048565            10117.87         18/9/16           184706   \n",
            "1048566            75734.42         18/9/16           181222   \n",
            "\n",
            "         TransactionAmount (INR)  \n",
            "0                           25.0  \n",
            "1                        27999.0  \n",
            "2                          459.0  \n",
            "3                         2060.0  \n",
            "4                         1762.5  \n",
            "...                          ...  \n",
            "1048562                    799.0  \n",
            "1048563                    460.0  \n",
            "1048564                    770.0  \n",
            "1048565                   1000.0  \n",
            "1048566                   1166.0  \n",
            "\n",
            "[1040794 rows x 9 columns]\n"
          ]
        }
      ]
    },
    {
      "cell_type": "code",
      "source": [
        "# Testing to see whether the row, (T385) containing a zero value under TransactionAmount still exists within the df\n",
        "print(df_floattest[df_floattest['TransactionID'] == 'T385'].to_string(index=False))"
      ],
      "metadata": {
        "colab": {
          "base_uri": "https://localhost:8080/"
        },
        "id": "HJgE47qYhP5b",
        "outputId": "f9f77806-6617-43d9-bcb6-7950e5248d5b",
        "collapsed": true
      },
      "execution_count": 16,
      "outputs": [
        {
          "output_type": "stream",
          "name": "stdout",
          "text": [
            "Empty DataFrame\n",
            "Columns: [TransactionID, CustomerID, CustomerDOB, CustGender, CustLocation, CustAccountBalance, TransactionDate, TransactionTime, TransactionAmount (INR)]\n",
            "Index: []\n"
          ]
        }
      ]
    },
    {
      "cell_type": "code",
      "source": [
        "# Testing to see how many transactions of 0.01 there are after cleaning transaction amounts below 0.01\n",
        "df_floattest[df_floattest['TransactionAmount (INR)'] == 0.01].sum()"
      ],
      "metadata": {
        "colab": {
          "base_uri": "https://localhost:8080/",
          "height": 362
        },
        "id": "CTGVTP8qX4Tb",
        "outputId": "6d070f14-6662-47d1-d7b0-abea6095aed2",
        "collapsed": true
      },
      "execution_count": 17,
      "outputs": [
        {
          "output_type": "execute_result",
          "data": {
            "text/plain": [
              "TransactionID              T6313T27163T30260T64413T72242T87999T97070T9819...\n",
              "CustomerID                 C4319866C2519818C5815789C3425913C5130473C38272...\n",
              "CustomerDOB                1/12/931/12/9321/3/636/2/9721/8/904/3/845/8/95...\n",
              "CustGender                                          MMMMMMMMMMFMMMMMMMMMMMMM\n",
              "CustLocation               MAUMAUMUMBAIPANIPATKARNALCHENNAITHANETHANEARIY...\n",
              "CustAccountBalance                                                2003967.97\n",
              "TransactionDate            25/9/1625/9/1625/9/162/8/162/8/161/8/161/8/161...\n",
              "TransactionTime                                                      2801925\n",
              "TransactionAmount (INR)                                                 0.24\n",
              "dtype: object"
            ],
            "text/html": [
              "<div>\n",
              "<style scoped>\n",
              "    .dataframe tbody tr th:only-of-type {\n",
              "        vertical-align: middle;\n",
              "    }\n",
              "\n",
              "    .dataframe tbody tr th {\n",
              "        vertical-align: top;\n",
              "    }\n",
              "\n",
              "    .dataframe thead th {\n",
              "        text-align: right;\n",
              "    }\n",
              "</style>\n",
              "<table border=\"1\" class=\"dataframe\">\n",
              "  <thead>\n",
              "    <tr style=\"text-align: right;\">\n",
              "      <th></th>\n",
              "      <th>0</th>\n",
              "    </tr>\n",
              "  </thead>\n",
              "  <tbody>\n",
              "    <tr>\n",
              "      <th>TransactionID</th>\n",
              "      <td>T6313T27163T30260T64413T72242T87999T97070T9819...</td>\n",
              "    </tr>\n",
              "    <tr>\n",
              "      <th>CustomerID</th>\n",
              "      <td>C4319866C2519818C5815789C3425913C5130473C38272...</td>\n",
              "    </tr>\n",
              "    <tr>\n",
              "      <th>CustomerDOB</th>\n",
              "      <td>1/12/931/12/9321/3/636/2/9721/8/904/3/845/8/95...</td>\n",
              "    </tr>\n",
              "    <tr>\n",
              "      <th>CustGender</th>\n",
              "      <td>MMMMMMMMMMFMMMMMMMMMMMMM</td>\n",
              "    </tr>\n",
              "    <tr>\n",
              "      <th>CustLocation</th>\n",
              "      <td>MAUMAUMUMBAIPANIPATKARNALCHENNAITHANETHANEARIY...</td>\n",
              "    </tr>\n",
              "    <tr>\n",
              "      <th>CustAccountBalance</th>\n",
              "      <td>2003967.97</td>\n",
              "    </tr>\n",
              "    <tr>\n",
              "      <th>TransactionDate</th>\n",
              "      <td>25/9/1625/9/1625/9/162/8/162/8/161/8/161/8/161...</td>\n",
              "    </tr>\n",
              "    <tr>\n",
              "      <th>TransactionTime</th>\n",
              "      <td>2801925</td>\n",
              "    </tr>\n",
              "    <tr>\n",
              "      <th>TransactionAmount (INR)</th>\n",
              "      <td>0.24</td>\n",
              "    </tr>\n",
              "  </tbody>\n",
              "</table>\n",
              "</div><br><label><b>dtype:</b> object</label>"
            ]
          },
          "metadata": {},
          "execution_count": 17
        }
      ]
    },
    {
      "cell_type": "code",
      "source": [
        "# Benchmark length of df_floattest (now called df_clean_trans for cleaned transaction data)\n",
        "len(df_floattest)"
      ],
      "metadata": {
        "colab": {
          "base_uri": "https://localhost:8080/"
        },
        "id": "JZyz8fiPnvYx",
        "outputId": "1ddf9e30-bea8-48dd-fccc-228ae1fca0c9"
      },
      "execution_count": 18,
      "outputs": [
        {
          "output_type": "execute_result",
          "data": {
            "text/plain": [
              "1040794"
            ]
          },
          "metadata": {},
          "execution_count": 18
        }
      ]
    },
    {
      "cell_type": "markdown",
      "source": [
        "# A.3"
      ],
      "metadata": {
        "id": "0EZC7Kc3orAE"
      }
    },
    {
      "cell_type": "code",
      "source": [
        "# identification of invalid age values\n",
        "\n",
        "df_floattest[df_floattest['TransactionID'] == 'T17'] # first example of bad dob"
      ],
      "metadata": {
        "colab": {
          "base_uri": "https://localhost:8080/",
          "height": 117
        },
        "id": "--zq29GYotyz",
        "outputId": "d0ac9656-273b-4fc9-d05f-a87bacaadc89"
      },
      "execution_count": 19,
      "outputs": [
        {
          "output_type": "execute_result",
          "data": {
            "text/plain": [
              "   TransactionID CustomerID CustomerDOB CustGender CustLocation  \\\n",
              "16           T17   C1376215    1/1/1800          M       MUMBAI   \n",
              "\n",
              "    CustAccountBalance TransactionDate  TransactionTime  \\\n",
              "16            77495.15          1/8/16           124727   \n",
              "\n",
              "    TransactionAmount (INR)  \n",
              "16                  1423.11  "
            ],
            "text/html": [
              "\n",
              "  <div id=\"df-ca2bf714-a70b-460c-ae7e-3668069c3c43\" class=\"colab-df-container\">\n",
              "    <div>\n",
              "<style scoped>\n",
              "    .dataframe tbody tr th:only-of-type {\n",
              "        vertical-align: middle;\n",
              "    }\n",
              "\n",
              "    .dataframe tbody tr th {\n",
              "        vertical-align: top;\n",
              "    }\n",
              "\n",
              "    .dataframe thead th {\n",
              "        text-align: right;\n",
              "    }\n",
              "</style>\n",
              "<table border=\"1\" class=\"dataframe\">\n",
              "  <thead>\n",
              "    <tr style=\"text-align: right;\">\n",
              "      <th></th>\n",
              "      <th>TransactionID</th>\n",
              "      <th>CustomerID</th>\n",
              "      <th>CustomerDOB</th>\n",
              "      <th>CustGender</th>\n",
              "      <th>CustLocation</th>\n",
              "      <th>CustAccountBalance</th>\n",
              "      <th>TransactionDate</th>\n",
              "      <th>TransactionTime</th>\n",
              "      <th>TransactionAmount (INR)</th>\n",
              "    </tr>\n",
              "  </thead>\n",
              "  <tbody>\n",
              "    <tr>\n",
              "      <th>16</th>\n",
              "      <td>T17</td>\n",
              "      <td>C1376215</td>\n",
              "      <td>1/1/1800</td>\n",
              "      <td>M</td>\n",
              "      <td>MUMBAI</td>\n",
              "      <td>77495.15</td>\n",
              "      <td>1/8/16</td>\n",
              "      <td>124727</td>\n",
              "      <td>1423.11</td>\n",
              "    </tr>\n",
              "  </tbody>\n",
              "</table>\n",
              "</div>\n",
              "    <div class=\"colab-df-buttons\">\n",
              "\n",
              "  <div class=\"colab-df-container\">\n",
              "    <button class=\"colab-df-convert\" onclick=\"convertToInteractive('df-ca2bf714-a70b-460c-ae7e-3668069c3c43')\"\n",
              "            title=\"Convert this dataframe to an interactive table.\"\n",
              "            style=\"display:none;\">\n",
              "\n",
              "  <svg xmlns=\"http://www.w3.org/2000/svg\" height=\"24px\" viewBox=\"0 -960 960 960\">\n",
              "    <path d=\"M120-120v-720h720v720H120Zm60-500h600v-160H180v160Zm220 220h160v-160H400v160Zm0 220h160v-160H400v160ZM180-400h160v-160H180v160Zm440 0h160v-160H620v160ZM180-180h160v-160H180v160Zm440 0h160v-160H620v160Z\"/>\n",
              "  </svg>\n",
              "    </button>\n",
              "\n",
              "  <style>\n",
              "    .colab-df-container {\n",
              "      display:flex;\n",
              "      gap: 12px;\n",
              "    }\n",
              "\n",
              "    .colab-df-convert {\n",
              "      background-color: #E8F0FE;\n",
              "      border: none;\n",
              "      border-radius: 50%;\n",
              "      cursor: pointer;\n",
              "      display: none;\n",
              "      fill: #1967D2;\n",
              "      height: 32px;\n",
              "      padding: 0 0 0 0;\n",
              "      width: 32px;\n",
              "    }\n",
              "\n",
              "    .colab-df-convert:hover {\n",
              "      background-color: #E2EBFA;\n",
              "      box-shadow: 0px 1px 2px rgba(60, 64, 67, 0.3), 0px 1px 3px 1px rgba(60, 64, 67, 0.15);\n",
              "      fill: #174EA6;\n",
              "    }\n",
              "\n",
              "    .colab-df-buttons div {\n",
              "      margin-bottom: 4px;\n",
              "    }\n",
              "\n",
              "    [theme=dark] .colab-df-convert {\n",
              "      background-color: #3B4455;\n",
              "      fill: #D2E3FC;\n",
              "    }\n",
              "\n",
              "    [theme=dark] .colab-df-convert:hover {\n",
              "      background-color: #434B5C;\n",
              "      box-shadow: 0px 1px 3px 1px rgba(0, 0, 0, 0.15);\n",
              "      filter: drop-shadow(0px 1px 2px rgba(0, 0, 0, 0.3));\n",
              "      fill: #FFFFFF;\n",
              "    }\n",
              "  </style>\n",
              "\n",
              "    <script>\n",
              "      const buttonEl =\n",
              "        document.querySelector('#df-ca2bf714-a70b-460c-ae7e-3668069c3c43 button.colab-df-convert');\n",
              "      buttonEl.style.display =\n",
              "        google.colab.kernel.accessAllowed ? 'block' : 'none';\n",
              "\n",
              "      async function convertToInteractive(key) {\n",
              "        const element = document.querySelector('#df-ca2bf714-a70b-460c-ae7e-3668069c3c43');\n",
              "        const dataTable =\n",
              "          await google.colab.kernel.invokeFunction('convertToInteractive',\n",
              "                                                    [key], {});\n",
              "        if (!dataTable) return;\n",
              "\n",
              "        const docLinkHtml = 'Like what you see? Visit the ' +\n",
              "          '<a target=\"_blank\" href=https://colab.research.google.com/notebooks/data_table.ipynb>data table notebook</a>'\n",
              "          + ' to learn more about interactive tables.';\n",
              "        element.innerHTML = '';\n",
              "        dataTable['output_type'] = 'display_data';\n",
              "        await google.colab.output.renderOutput(dataTable, element);\n",
              "        const docLink = document.createElement('div');\n",
              "        docLink.innerHTML = docLinkHtml;\n",
              "        element.appendChild(docLink);\n",
              "      }\n",
              "    </script>\n",
              "  </div>\n",
              "\n",
              "\n",
              "    </div>\n",
              "  </div>\n"
            ],
            "application/vnd.google.colaboratory.intrinsic+json": {
              "type": "dataframe",
              "repr_error": "0"
            }
          },
          "metadata": {},
          "execution_count": 19
        }
      ]
    },
    {
      "cell_type": "code",
      "source": [
        "# identification of invalid age values cont.\n",
        "\n",
        "df_ageIdentificationTest = df_floattest[df_floattest['CustomerDOB'] == '1/1/1800']\n",
        "print(df_ageIdentificationTest)\n",
        "len(df_floattest) # length pre removal"
      ],
      "metadata": {
        "colab": {
          "base_uri": "https://localhost:8080/"
        },
        "collapsed": true,
        "id": "ubf7VDoBp2Wm",
        "outputId": "4ba1d9c0-244c-47f9-dcba-b768f6db834c"
      },
      "execution_count": 20,
      "outputs": [
        {
          "output_type": "stream",
          "name": "stdout",
          "text": [
            "        TransactionID CustomerID CustomerDOB CustGender  \\\n",
            "16                T17   C1376215    1/1/1800          M   \n",
            "22                T23   C7018081    1/1/1800          M   \n",
            "28                T29   C7935438    1/1/1800          M   \n",
            "35                T36   C1211387    1/1/1800          M   \n",
            "151              T152   C3334638    1/1/1800          M   \n",
            "...               ...        ...         ...        ...   \n",
            "1048443      T1048444   C7261226    1/1/1800          M   \n",
            "1048452      T1048453   C3813481    1/1/1800          M   \n",
            "1048531      T1048532   C6937679    1/1/1800          M   \n",
            "1048533      T1048534   C7431884    1/1/1800          M   \n",
            "1048540      T1048541   C1528025    1/1/1800          M   \n",
            "\n",
            "                     CustLocation  CustAccountBalance TransactionDate  \\\n",
            "16                         MUMBAI            77495.15          1/8/16   \n",
            "22       WAYS PANCHKUVA AHMEDABAD              143.07          3/8/16   \n",
            "28                         MOHALI           969436.12          3/8/16   \n",
            "35                      AHMEDABAD            11791.25          3/8/16   \n",
            "151                          PUNE              700.00          9/8/16   \n",
            "...                           ...                 ...             ...   \n",
            "1048443                    BHILAI             1393.33         18/9/16   \n",
            "1048452                 NEW DELHI           984605.24         18/9/16   \n",
            "1048531                 NEW DELHI            50698.90         18/9/16   \n",
            "1048533            MANDIR DHANBAD            53771.64         18/9/16   \n",
            "1048540                    MUMBAI           230894.59         18/9/16   \n",
            "\n",
            "         TransactionTime  TransactionAmount (INR)  \n",
            "16                124727                  1423.11  \n",
            "22                104718                   110.00  \n",
            "28                183634                    36.90  \n",
            "35                125915                  1075.00  \n",
            "151                24912                  1500.00  \n",
            "...                  ...                      ...  \n",
            "1048443           102427                   200.00  \n",
            "1048452            84644                   219.00  \n",
            "1048531           184319                   598.86  \n",
            "1048533           184049                   520.00  \n",
            "1048540           182331                   290.00  \n",
            "\n",
            "[56180 rows x 9 columns]\n"
          ]
        },
        {
          "output_type": "execute_result",
          "data": {
            "text/plain": [
              "1040794"
            ]
          },
          "metadata": {},
          "execution_count": 20
        }
      ]
    },
    {
      "cell_type": "code",
      "source": [
        "# removal of invalid age values\n",
        "\n",
        "df_ageRemovalTest = df_floattest[df_floattest['CustomerDOB'] != '1/1/1800']\n",
        "len(df_ageRemovalTest) # length post removal"
      ],
      "metadata": {
        "colab": {
          "base_uri": "https://localhost:8080/"
        },
        "id": "YmUOL80mqTle",
        "outputId": "607ffe20-508c-4ad1-e123-00381eae0659"
      },
      "execution_count": 21,
      "outputs": [
        {
          "output_type": "execute_result",
          "data": {
            "text/plain": [
              "984614"
            ]
          },
          "metadata": {},
          "execution_count": 21
        }
      ]
    },
    {
      "cell_type": "markdown",
      "source": [
        "#A.4"
      ],
      "metadata": {
        "id": "aD1VT0URywN8"
      }
    },
    {
      "cell_type": "code",
      "source": [
        "# get the transaction count per location\n",
        "# use head() to return the first 5 results already sorted so it is the top 5\n",
        "\n",
        "df_ageRemovalTest['CustLocation'].value_counts().head()"
      ],
      "metadata": {
        "colab": {
          "base_uri": "https://localhost:8080/",
          "height": 269
        },
        "id": "7vLekF2Ry3Om",
        "outputId": "5a5256b7-aaea-4f84-9fbb-1c7ecee62c32"
      },
      "execution_count": 23,
      "outputs": [
        {
          "output_type": "execute_result",
          "data": {
            "text/plain": [
              "CustLocation\n",
              "MUMBAI       97605\n",
              "BANGALORE    77688\n",
              "NEW DELHI    76307\n",
              "GURGAON      70447\n",
              "DELHI        67263\n",
              "Name: count, dtype: int64"
            ],
            "text/html": [
              "<div>\n",
              "<style scoped>\n",
              "    .dataframe tbody tr th:only-of-type {\n",
              "        vertical-align: middle;\n",
              "    }\n",
              "\n",
              "    .dataframe tbody tr th {\n",
              "        vertical-align: top;\n",
              "    }\n",
              "\n",
              "    .dataframe thead th {\n",
              "        text-align: right;\n",
              "    }\n",
              "</style>\n",
              "<table border=\"1\" class=\"dataframe\">\n",
              "  <thead>\n",
              "    <tr style=\"text-align: right;\">\n",
              "      <th></th>\n",
              "      <th>count</th>\n",
              "    </tr>\n",
              "    <tr>\n",
              "      <th>CustLocation</th>\n",
              "      <th></th>\n",
              "    </tr>\n",
              "  </thead>\n",
              "  <tbody>\n",
              "    <tr>\n",
              "      <th>MUMBAI</th>\n",
              "      <td>97605</td>\n",
              "    </tr>\n",
              "    <tr>\n",
              "      <th>BANGALORE</th>\n",
              "      <td>77688</td>\n",
              "    </tr>\n",
              "    <tr>\n",
              "      <th>NEW DELHI</th>\n",
              "      <td>76307</td>\n",
              "    </tr>\n",
              "    <tr>\n",
              "      <th>GURGAON</th>\n",
              "      <td>70447</td>\n",
              "    </tr>\n",
              "    <tr>\n",
              "      <th>DELHI</th>\n",
              "      <td>67263</td>\n",
              "    </tr>\n",
              "  </tbody>\n",
              "</table>\n",
              "</div><br><label><b>dtype:</b> int64</label>"
            ]
          },
          "metadata": {},
          "execution_count": 23
        }
      ]
    }
  ]
}