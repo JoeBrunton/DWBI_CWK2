{
  "nbformat": 4,
  "nbformat_minor": 0,
  "metadata": {
    "colab": {
      "provenance": []
    },
    "kernelspec": {
      "name": "python3",
      "display_name": "Python 3"
    },
    "language_info": {
      "name": "python"
    }
  },
  "cells": [
    {
      "cell_type": "code",
      "source": [
        "# Importing Pandas to read our data, displaying into a dataframe (df) with 100k+ rows and 9 columns\n",
        "import pandas as pd\n",
        "df = pd.read_csv('/content/drive/MyDrive/bank_transactions.csv')\n",
        "print(df)"
      ],
      "metadata": {
        "colab": {
          "base_uri": "https://localhost:8080/"
        },
        "id": "G0MOcGVoCSth",
        "outputId": "c6771b71-3570-419d-bba1-834ba9d63926"
      },
      "execution_count": 7,
      "outputs": [
        {
          "output_type": "stream",
          "name": "stdout",
          "text": [
            "        TransactionID CustomerID CustomerDOB CustGender   CustLocation  \\\n",
            "0                  T1   C5841053     10/1/94          F     JAMSHEDPUR   \n",
            "1                  T2   C2142763      4/4/57          M        JHAJJAR   \n",
            "2                  T3   C4417068    26/11/96          F         MUMBAI   \n",
            "3                  T4   C5342380     14/9/73          F         MUMBAI   \n",
            "4                  T5   C9031234     24/3/88          F    NAVI MUMBAI   \n",
            "...               ...        ...         ...        ...            ...   \n",
            "1048562      T1048563   C8020229      8/4/90          M      NEW DELHI   \n",
            "1048563      T1048564   C6459278     20/2/92          M         NASHIK   \n",
            "1048564      T1048565   C6412354     18/5/89          M      HYDERABAD   \n",
            "1048565      T1048566   C6420483     30/8/78          M  VISAKHAPATNAM   \n",
            "1048566      T1048567   C8337524      5/3/84          M           PUNE   \n",
            "\n",
            "         CustAccountBalance TransactionDate  TransactionTime  \\\n",
            "0                  17819.05          2/8/16           143207   \n",
            "1                   2270.69          2/8/16           141858   \n",
            "2                  17874.44          2/8/16           142712   \n",
            "3                 866503.21          2/8/16           142714   \n",
            "4                   6714.43          2/8/16           181156   \n",
            "...                     ...             ...              ...   \n",
            "1048562             7635.19         18/9/16           184824   \n",
            "1048563            27311.42         18/9/16           183734   \n",
            "1048564           221757.06         18/9/16           183313   \n",
            "1048565            10117.87         18/9/16           184706   \n",
            "1048566            75734.42         18/9/16           181222   \n",
            "\n",
            "         TransactionAmount (INR)  \n",
            "0                           25.0  \n",
            "1                        27999.0  \n",
            "2                          459.0  \n",
            "3                         2060.0  \n",
            "4                         1762.5  \n",
            "...                          ...  \n",
            "1048562                    799.0  \n",
            "1048563                    460.0  \n",
            "1048564                    770.0  \n",
            "1048565                   1000.0  \n",
            "1048566                   1166.0  \n",
            "\n",
            "[1048567 rows x 9 columns]\n"
          ]
        }
      ]
    },
    {
      "cell_type": "code",
      "source": [
        "# Identify how many rows per column have null values\n",
        "df.isnull().sum()"
      ],
      "metadata": {
        "colab": {
          "base_uri": "https://localhost:8080/",
          "height": 366
        },
        "id": "8egt4gMGC287",
        "outputId": "468f6132-5c32-44e7-9a2a-78642cba5cac"
      },
      "execution_count": 11,
      "outputs": [
        {
          "output_type": "execute_result",
          "data": {
            "text/plain": [
              "TransactionID                 0\n",
              "CustomerID                    0\n",
              "CustomerDOB                3397\n",
              "CustGender                 1100\n",
              "CustLocation                151\n",
              "CustAccountBalance         2369\n",
              "TransactionDate               0\n",
              "TransactionTime               0\n",
              "TransactionAmount (INR)       0\n",
              "dtype: int64"
            ],
            "text/html": [
              "<div>\n",
              "<style scoped>\n",
              "    .dataframe tbody tr th:only-of-type {\n",
              "        vertical-align: middle;\n",
              "    }\n",
              "\n",
              "    .dataframe tbody tr th {\n",
              "        vertical-align: top;\n",
              "    }\n",
              "\n",
              "    .dataframe thead th {\n",
              "        text-align: right;\n",
              "    }\n",
              "</style>\n",
              "<table border=\"1\" class=\"dataframe\">\n",
              "  <thead>\n",
              "    <tr style=\"text-align: right;\">\n",
              "      <th></th>\n",
              "      <th>0</th>\n",
              "    </tr>\n",
              "  </thead>\n",
              "  <tbody>\n",
              "    <tr>\n",
              "      <th>TransactionID</th>\n",
              "      <td>0</td>\n",
              "    </tr>\n",
              "    <tr>\n",
              "      <th>CustomerID</th>\n",
              "      <td>0</td>\n",
              "    </tr>\n",
              "    <tr>\n",
              "      <th>CustomerDOB</th>\n",
              "      <td>3397</td>\n",
              "    </tr>\n",
              "    <tr>\n",
              "      <th>CustGender</th>\n",
              "      <td>1100</td>\n",
              "    </tr>\n",
              "    <tr>\n",
              "      <th>CustLocation</th>\n",
              "      <td>151</td>\n",
              "    </tr>\n",
              "    <tr>\n",
              "      <th>CustAccountBalance</th>\n",
              "      <td>2369</td>\n",
              "    </tr>\n",
              "    <tr>\n",
              "      <th>TransactionDate</th>\n",
              "      <td>0</td>\n",
              "    </tr>\n",
              "    <tr>\n",
              "      <th>TransactionTime</th>\n",
              "      <td>0</td>\n",
              "    </tr>\n",
              "    <tr>\n",
              "      <th>TransactionAmount (INR)</th>\n",
              "      <td>0</td>\n",
              "    </tr>\n",
              "  </tbody>\n",
              "</table>\n",
              "</div><br><label><b>dtype:</b> int64</label>"
            ]
          },
          "metadata": {},
          "execution_count": 11
        }
      ]
    },
    {
      "cell_type": "code",
      "source": [
        "# Creating a new df called df_clean, using dropna method to remove rows containing null values\n",
        "df_clean = df.dropna()\n",
        "print(df_clean)"
      ],
      "metadata": {
        "colab": {
          "base_uri": "https://localhost:8080/"
        },
        "id": "vuopjaNXDTes",
        "outputId": "5689a517-5bde-4982-b991-d81d3a1ed782"
      },
      "execution_count": 9,
      "outputs": [
        {
          "output_type": "stream",
          "name": "stdout",
          "text": [
            "        TransactionID CustomerID CustomerDOB CustGender   CustLocation  \\\n",
            "0                  T1   C5841053     10/1/94          F     JAMSHEDPUR   \n",
            "1                  T2   C2142763      4/4/57          M        JHAJJAR   \n",
            "2                  T3   C4417068    26/11/96          F         MUMBAI   \n",
            "3                  T4   C5342380     14/9/73          F         MUMBAI   \n",
            "4                  T5   C9031234     24/3/88          F    NAVI MUMBAI   \n",
            "...               ...        ...         ...        ...            ...   \n",
            "1048562      T1048563   C8020229      8/4/90          M      NEW DELHI   \n",
            "1048563      T1048564   C6459278     20/2/92          M         NASHIK   \n",
            "1048564      T1048565   C6412354     18/5/89          M      HYDERABAD   \n",
            "1048565      T1048566   C6420483     30/8/78          M  VISAKHAPATNAM   \n",
            "1048566      T1048567   C8337524      5/3/84          M           PUNE   \n",
            "\n",
            "         CustAccountBalance TransactionDate  TransactionTime  \\\n",
            "0                  17819.05          2/8/16           143207   \n",
            "1                   2270.69          2/8/16           141858   \n",
            "2                  17874.44          2/8/16           142712   \n",
            "3                 866503.21          2/8/16           142714   \n",
            "4                   6714.43          2/8/16           181156   \n",
            "...                     ...             ...              ...   \n",
            "1048562             7635.19         18/9/16           184824   \n",
            "1048563            27311.42         18/9/16           183734   \n",
            "1048564           221757.06         18/9/16           183313   \n",
            "1048565            10117.87         18/9/16           184706   \n",
            "1048566            75734.42         18/9/16           181222   \n",
            "\n",
            "         TransactionAmount (INR)  \n",
            "0                           25.0  \n",
            "1                        27999.0  \n",
            "2                          459.0  \n",
            "3                         2060.0  \n",
            "4                         1762.5  \n",
            "...                          ...  \n",
            "1048562                    799.0  \n",
            "1048563                    460.0  \n",
            "1048564                    770.0  \n",
            "1048565                   1000.0  \n",
            "1048566                   1166.0  \n",
            "\n",
            "[1041614 rows x 9 columns]\n"
          ]
        }
      ]
    },
    {
      "cell_type": "code",
      "source": [
        "df_clean.isnull().sum()"
      ],
      "metadata": {
        "colab": {
          "base_uri": "https://localhost:8080/",
          "height": 366
        },
        "id": "cQ0R1ewhDdPj",
        "outputId": "3a0c95e2-6efe-4e1a-9643-3cdded4dafbe"
      },
      "execution_count": 10,
      "outputs": [
        {
          "output_type": "execute_result",
          "data": {
            "text/plain": [
              "TransactionID              0\n",
              "CustomerID                 0\n",
              "CustomerDOB                0\n",
              "CustGender                 0\n",
              "CustLocation               0\n",
              "CustAccountBalance         0\n",
              "TransactionDate            0\n",
              "TransactionTime            0\n",
              "TransactionAmount (INR)    0\n",
              "dtype: int64"
            ],
            "text/html": [
              "<div>\n",
              "<style scoped>\n",
              "    .dataframe tbody tr th:only-of-type {\n",
              "        vertical-align: middle;\n",
              "    }\n",
              "\n",
              "    .dataframe tbody tr th {\n",
              "        vertical-align: top;\n",
              "    }\n",
              "\n",
              "    .dataframe thead th {\n",
              "        text-align: right;\n",
              "    }\n",
              "</style>\n",
              "<table border=\"1\" class=\"dataframe\">\n",
              "  <thead>\n",
              "    <tr style=\"text-align: right;\">\n",
              "      <th></th>\n",
              "      <th>0</th>\n",
              "    </tr>\n",
              "  </thead>\n",
              "  <tbody>\n",
              "    <tr>\n",
              "      <th>TransactionID</th>\n",
              "      <td>0</td>\n",
              "    </tr>\n",
              "    <tr>\n",
              "      <th>CustomerID</th>\n",
              "      <td>0</td>\n",
              "    </tr>\n",
              "    <tr>\n",
              "      <th>CustomerDOB</th>\n",
              "      <td>0</td>\n",
              "    </tr>\n",
              "    <tr>\n",
              "      <th>CustGender</th>\n",
              "      <td>0</td>\n",
              "    </tr>\n",
              "    <tr>\n",
              "      <th>CustLocation</th>\n",
              "      <td>0</td>\n",
              "    </tr>\n",
              "    <tr>\n",
              "      <th>CustAccountBalance</th>\n",
              "      <td>0</td>\n",
              "    </tr>\n",
              "    <tr>\n",
              "      <th>TransactionDate</th>\n",
              "      <td>0</td>\n",
              "    </tr>\n",
              "    <tr>\n",
              "      <th>TransactionTime</th>\n",
              "      <td>0</td>\n",
              "    </tr>\n",
              "    <tr>\n",
              "      <th>TransactionAmount (INR)</th>\n",
              "      <td>0</td>\n",
              "    </tr>\n",
              "  </tbody>\n",
              "</table>\n",
              "</div><br><label><b>dtype:</b> int64</label>"
            ]
          },
          "metadata": {},
          "execution_count": 10
        }
      ]
    }
  ]
}